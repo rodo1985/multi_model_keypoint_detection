{
 "cells": [
  {
   "cell_type": "markdown",
   "metadata": {},
   "source": [
    "# Example of train with a KeypointRCNN_ResNet50_FPN pre-trained model\n",
    "\n",
    "In the code below, we are going to use the KeypointRCNN_ResNet50_FPN_Weights model pre-trained on the COCO dataset to train on our own dataset."
   ]
  },
  {
   "cell_type": "markdown",
   "metadata": {},
   "source": [
    "Import libraries"
   ]
  },
  {
   "cell_type": "code",
   "execution_count": 65,
   "metadata": {},
   "outputs": [],
   "source": [
    "import json\n",
    "import os\n",
    "import cv2\n",
    "import numpy as np\n",
    "import torch\n",
    "from torch.utils.data import Dataset, DataLoader\n",
    "import kornia as K\n",
    "import matplotlib.pyplot as plt\n",
    "import torchvision\n",
    "from torchvision.models.detection import KeypointRCNN_ResNet50_FPN_Weights\n",
    "from tqdm import tqdm\n",
    "import torch.optim as optim\n",
    "from tqdm import tqdm\n",
    "import datetime\n",
    "import os\n"
   ]
  },
  {
   "cell_type": "code",
   "execution_count": 66,
   "metadata": {},
   "outputs": [
    {
     "name": "stdout",
     "output_type": "stream",
     "text": [
      "cuda\n",
      "16\n",
      "16\n"
     ]
    }
   ],
   "source": [
    "class CustomDataset(Dataset):\n",
    "    def __init__(self, images_path, annotations_path, use_augmentation, device):\n",
    "        self.images_path = images_path\n",
    "        self.annotations_path = annotations_path\n",
    "        self.device = device\n",
    "        self.image_filenames = [filename for filename in os.listdir(images_path) if filename.endswith('.jpg')]\n",
    "\n",
    "        if use_augmentation:\n",
    "            # Declare an augmentation pipeline\n",
    "            self.transform =K.augmentation.AugmentationSequential(\n",
    "                K.augmentation.RandomVerticalFlip(), \n",
    "                K.augmentation.RandomHorizontalFlip(),\n",
    "                K.augmentation.RandomRotation(30),\n",
    "                K.augmentation.RandomBrightness(0.5, 1.5),\n",
    "                K.augmentation.RandomContrast(0.5, 1.5),\n",
    "                data_keys=[\"input\", \"bbox\", \"keypoints\"])\n",
    "        else:\n",
    "            self.transform = K.augmentation.AugmentationSequential(\n",
    "                K.augmentation.RandomRotation(0),\n",
    "                data_keys=[\"input\", \"bbox\", \"keypoints\"])\n",
    "\n",
    "    def __len__(self):\n",
    "        return len(self.image_filenames)\n",
    "\n",
    "    def __getitem__(self, idx):\n",
    "\n",
    "        image_filename = self.image_filenames[idx]\n",
    "        image_tensor = self.load_image(os.path.join(self.images_path, image_filename))\n",
    "        annotation_filename = os.path.join(self.annotations_path, image_filename[:-4] + '.json')\n",
    "\n",
    "        with open(annotation_filename, 'r') as f:\n",
    "            bbox_tensor, keypoint_tensor = self.convert_to_kornia_format(json.load(f))\n",
    "    \n",
    "        out_tensor = self.transform(image_tensor.float(), bbox_tensor.float(), keypoint_tensor.float())\n",
    "        \n",
    "        # plot augmentation to test it\n",
    "        if False:\n",
    "            img_out = self.plot_resulting_image(\n",
    "            out_tensor[0][0],\n",
    "            out_tensor[1].int(),\n",
    "            out_tensor[2].int(),\n",
    "            )\n",
    "            # plot the image\n",
    "            plt.imshow(K.tensor_to_image(image_tensor.mul(255).byte()).copy())\n",
    "            plt.show()\n",
    "            plt.imshow(img_out)\n",
    "            plt.show()\n",
    "\n",
    "        # get the torch format from kornia format\n",
    "        target = self.kornia_to_torch_format( out_tensor[1], out_tensor[2])\n",
    "\n",
    "        # return tensors\n",
    "        return image_tensor, target\n",
    "\n",
    "    def load_image(self, image_path: str)-> torch.Tensor:\n",
    "        \"\"\"\n",
    "        Method to load image\n",
    "        params:\n",
    "            image_path: str = path of the image\n",
    "        return:\n",
    "            tensor: torch.Tensor = image tensor\n",
    "        \"\"\"\n",
    "\n",
    "        # load image and convert to tensor\n",
    "        image: np.ndarray = cv2.imread(image_path)\n",
    "\n",
    "        # convert to tensor\n",
    "        image_tensor: torch.Tensor = K.image_to_tensor(image)\n",
    "\n",
    "        # bgr to rgb\n",
    "        image_tensor = K.color.bgr_to_rgb(image_tensor)\n",
    "\n",
    "        return K.enhance.normalize(image_tensor, torch.tensor(0.), torch.tensor(255.)).to(self.device)\n",
    "    \n",
    "    def convert_to_kornia_format(self, data):\n",
    "        \"\"\"\n",
    "        Method to convert the bounding boxes and keypoints to the Kornia format\n",
    "        params:\n",
    "            data: dict = dictionary containing the bounding boxes and keypoints\n",
    "        return:\n",
    "            bbox_tensor: torch.Tensor = tensor containing the bounding boxes\n",
    "            keypoint_tensor: torch.Tensor = tensor containing the keypoints\n",
    "        \"\"\"\n",
    "\n",
    "        # Extract the bounding boxes and keypoints from the dictionary\n",
    "        bboxes = data['bboxes']\n",
    "        keypoints = data['keypoints']\n",
    "\n",
    "        # Convert the bounding boxes to the Kornia format\n",
    "        bbox_list = []\n",
    "        for bbox in bboxes:\n",
    "            x1, y1, x2, y2 = bbox\n",
    "            bbox_list.append([[x1, y1], [x2, y1], [x2, y2], [x1, y2]])\n",
    "        bbox_tensor = torch.tensor(bbox_list).unsqueeze(0).to(self.device)\n",
    "\n",
    "        # Convert the keypoints to the Kornia format\n",
    "        keypoint_list = []\n",
    "        for kpts in keypoints:\n",
    "            for kpt in kpts:\n",
    "                x, y, _ = kpt\n",
    "                keypoint_list.append([x, y])\n",
    "        keypoint_tensor = torch.tensor(keypoint_list).unsqueeze(0).to(self.device)\n",
    "        return bbox_tensor, keypoint_tensor\n",
    "    \n",
    "    def plot_resulting_image(self, img, bbox, keypoints):\n",
    "        \"\"\"\n",
    "        Plot the resulting image with bounding boxes and keypoints.\n",
    "        params:\n",
    "            img: torch.Tensor = image tensor\n",
    "            bbox: torch.Tensor = bounding box tensor\n",
    "            keypoints: torch.Tensor = keypoints tensor\n",
    "        return:\n",
    "            img_draw = image with bounding boxes and keypoints\n",
    "        \"\"\"\n",
    "        img_array = K.tensor_to_image(img.mul(255).byte()).copy()\n",
    "        img_draw = cv2.polylines(img_array, bbox.reshape(-1, 4, 2).cpu().numpy(), isClosed=True, color=(255, 0, 0))\n",
    "        for k in keypoints[0]:\n",
    "            img_draw = cv2.circle(img_draw, tuple(k.cpu().numpy()[:2]), radius=6, color=(255, 0, 0), thickness=-1)\n",
    "        return img_draw\n",
    "\n",
    "    def kornia_to_torch_format(self, bbox_tensor, keypoint_tensor, labels=None):\n",
    "        \"\"\"\n",
    "        Convert bbox_tensor and keypoint_tensor in Kornia format to torch's expected format.\n",
    "        \n",
    "        Parameters:\n",
    "        - bbox_tensor (torch.Tensor): Bounding box tensor in Kornia format\n",
    "        - keypoint_tensor (torch.Tensor): Keypoint tensor in Kornia format\n",
    "        - labels (list[int]): List of class labels for each bounding box. If None, default to label=1 for all boxes.\n",
    "        \n",
    "        Returns:\n",
    "        - dict: A dictionary with 'boxes', 'labels', and 'keypoints' in the format expected by torch.\n",
    "        \"\"\"\n",
    "        # Convert bbox_tensor from Kornia's format to torch's [x1, y1, x2, y2] format\n",
    "        boxes = torch.stack([bbox_tensor[0,:,0,0], bbox_tensor[0,:,0,1], bbox_tensor[0,:,2,0], bbox_tensor[0,:,2,1]], dim=1)\n",
    "        \n",
    "        # If labels aren't provided, assume a default label of 1 for all bounding boxes\n",
    "        if labels is None:\n",
    "            labels = torch.ones((bbox_tensor.shape[1],), dtype=torch.int64).to(self.device)\n",
    "        else:\n",
    "            labels = torch.tensor(labels, dtype=torch.int64).to(self.device)\n",
    "        \n",
    "        # Convert keypoint_tensor to the desired [x, y, visibility] format\n",
    "        keypoints = torch.zeros((bbox_tensor.shape[1], keypoint_tensor.shape[1]//bbox_tensor.shape[1], 3)).to(self.device)\n",
    "        for i in range(bbox_tensor.shape[1]):\n",
    "            keypoints[i, :, :2] = keypoint_tensor[0, i*2:(i+1)*2, :]\n",
    "            keypoints[i, :, 2] = 1  # setting visibility to 1\n",
    "        \n",
    "        return {\"boxes\": boxes, \"labels\": labels, \"keypoints\": keypoints}\n",
    "\n",
    "def collate_fn(batch):\n",
    "    \"\"\"\n",
    "    Collate function to format the batch in the desired manner.\n",
    "    \n",
    "    Parameters:\n",
    "    - batch (list): List of tuples where each tuple contains an image tensor and its associated target.\n",
    "    \n",
    "    Returns:\n",
    "    - tuple: Tuple containing a tensor of images and a list of targets.\n",
    "    \"\"\"\n",
    "    # Separate images and targets in the batch\n",
    "    images, targets = zip(*batch)\n",
    "    \n",
    "    return images, targets\n",
    "\n",
    "\n",
    "# if cuda is avaliable, use it\n",
    "device = 'cuda' if torch.cuda.is_available() else 'cpu'\n",
    "print(device)\n",
    "\n",
    "train_images_path = 'dataset/train/images'\n",
    "train_annotations_path = 'dataset/train/annotations'\n",
    "test_images_path = 'dataset/test/images'\n",
    "test_annotations_path = 'dataset/test/annotations'\n",
    "\n",
    "train_dataset = CustomDataset(train_images_path, train_annotations_path,use_augmentation = True, device = device)\n",
    "test_dataset = CustomDataset(test_images_path, test_annotations_path,  use_augmentation = False, device = device)\n",
    "\n",
    "train_dataloader = DataLoader(train_dataset, batch_size = 16, shuffle=True, collate_fn=collate_fn)\n",
    "test_dataloader = DataLoader(test_dataset, batch_size = 8, shuffle=False, collate_fn=collate_fn)\n",
    "\n",
    "# Get a batch of images and annotations from the train dataloader\n",
    "images, targets = next(iter(train_dataloader))\n",
    "\n",
    "print(len(images))\n",
    "print(len(targets))"
   ]
  },
  {
   "cell_type": "markdown",
   "metadata": {},
   "source": [
    "# TRAIN"
   ]
  },
  {
   "cell_type": "code",
   "execution_count": 67,
   "metadata": {},
   "outputs": [
    {
     "name": "stderr",
     "output_type": "stream",
     "text": [
      "/home/sorb/projects/multi_model_keypoint_detection/venv/lib/python3.10/site-packages/torchvision/models/_utils.py:208: UserWarning: The parameter 'pretrained' is deprecated since 0.13 and may be removed in the future, please use 'weights' instead.\n",
      "  warnings.warn(\n",
      "/home/sorb/projects/multi_model_keypoint_detection/venv/lib/python3.10/site-packages/torchvision/models/_utils.py:223: UserWarning: Arguments other than a weight enum or `None` for 'weights' are deprecated since 0.13 and may be removed in the future. The current behavior is equivalent to passing `weights=None`.\n",
      "  warnings.warn(msg)\n",
      "/home/sorb/projects/multi_model_keypoint_detection/venv/lib/python3.10/site-packages/torchvision/models/_utils.py:208: UserWarning: The parameter 'pretrained_backbone' is deprecated since 0.13 and may be removed in the future, please use 'weights_backbone' instead.\n",
      "  warnings.warn(\n",
      "/home/sorb/projects/multi_model_keypoint_detection/venv/lib/python3.10/site-packages/torchvision/models/_utils.py:223: UserWarning: Arguments other than a weight enum or `None` for 'weights_backbone' are deprecated since 0.13 and may be removed in the future. The current behavior is equivalent to passing `weights_backbone=ResNet50_Weights.IMAGENET1K_V1`. You can also use `weights_backbone=ResNet50_Weights.DEFAULT` to get the most up-to-date weights.\n",
      "  warnings.warn(msg)\n"
     ]
    },
    {
     "name": "stdout",
     "output_type": "stream",
     "text": [
      "KeypointRCNN(\n",
      "  (transform): GeneralizedRCNNTransform(\n",
      "      Normalize(mean=[0.485, 0.456, 0.406], std=[0.229, 0.224, 0.225])\n",
      "      Resize(min_size=(640, 672, 704, 736, 768, 800), max_size=1333, mode='bilinear')\n",
      "  )\n",
      "  (backbone): BackboneWithFPN(\n",
      "    (body): IntermediateLayerGetter(\n",
      "      (conv1): Conv2d(3, 64, kernel_size=(7, 7), stride=(2, 2), padding=(3, 3), bias=False)\n",
      "      (bn1): FrozenBatchNorm2d(64, eps=1e-05)\n",
      "      (relu): ReLU(inplace=True)\n",
      "      (maxpool): MaxPool2d(kernel_size=3, stride=2, padding=1, dilation=1, ceil_mode=False)\n",
      "      (layer1): Sequential(\n",
      "        (0): Bottleneck(\n",
      "          (conv1): Conv2d(64, 64, kernel_size=(1, 1), stride=(1, 1), bias=False)\n",
      "          (bn1): FrozenBatchNorm2d(64, eps=1e-05)\n",
      "          (conv2): Conv2d(64, 64, kernel_size=(3, 3), stride=(1, 1), padding=(1, 1), bias=False)\n",
      "          (bn2): FrozenBatchNorm2d(64, eps=1e-05)\n",
      "          (conv3): Conv2d(64, 256, kernel_size=(1, 1), stride=(1, 1), bias=False)\n",
      "          (bn3): FrozenBatchNorm2d(256, eps=1e-05)\n",
      "          (relu): ReLU(inplace=True)\n",
      "          (downsample): Sequential(\n",
      "            (0): Conv2d(64, 256, kernel_size=(1, 1), stride=(1, 1), bias=False)\n",
      "            (1): FrozenBatchNorm2d(256, eps=1e-05)\n",
      "          )\n",
      "        )\n",
      "        (1): Bottleneck(\n",
      "          (conv1): Conv2d(256, 64, kernel_size=(1, 1), stride=(1, 1), bias=False)\n",
      "          (bn1): FrozenBatchNorm2d(64, eps=1e-05)\n",
      "          (conv2): Conv2d(64, 64, kernel_size=(3, 3), stride=(1, 1), padding=(1, 1), bias=False)\n",
      "          (bn2): FrozenBatchNorm2d(64, eps=1e-05)\n",
      "          (conv3): Conv2d(64, 256, kernel_size=(1, 1), stride=(1, 1), bias=False)\n",
      "          (bn3): FrozenBatchNorm2d(256, eps=1e-05)\n",
      "          (relu): ReLU(inplace=True)\n",
      "        )\n",
      "        (2): Bottleneck(\n",
      "          (conv1): Conv2d(256, 64, kernel_size=(1, 1), stride=(1, 1), bias=False)\n",
      "          (bn1): FrozenBatchNorm2d(64, eps=1e-05)\n",
      "          (conv2): Conv2d(64, 64, kernel_size=(3, 3), stride=(1, 1), padding=(1, 1), bias=False)\n",
      "          (bn2): FrozenBatchNorm2d(64, eps=1e-05)\n",
      "          (conv3): Conv2d(64, 256, kernel_size=(1, 1), stride=(1, 1), bias=False)\n",
      "          (bn3): FrozenBatchNorm2d(256, eps=1e-05)\n",
      "          (relu): ReLU(inplace=True)\n",
      "        )\n",
      "      )\n",
      "      (layer2): Sequential(\n",
      "        (0): Bottleneck(\n",
      "          (conv1): Conv2d(256, 128, kernel_size=(1, 1), stride=(1, 1), bias=False)\n",
      "          (bn1): FrozenBatchNorm2d(128, eps=1e-05)\n",
      "          (conv2): Conv2d(128, 128, kernel_size=(3, 3), stride=(2, 2), padding=(1, 1), bias=False)\n",
      "          (bn2): FrozenBatchNorm2d(128, eps=1e-05)\n",
      "          (conv3): Conv2d(128, 512, kernel_size=(1, 1), stride=(1, 1), bias=False)\n",
      "          (bn3): FrozenBatchNorm2d(512, eps=1e-05)\n",
      "          (relu): ReLU(inplace=True)\n",
      "          (downsample): Sequential(\n",
      "            (0): Conv2d(256, 512, kernel_size=(1, 1), stride=(2, 2), bias=False)\n",
      "            (1): FrozenBatchNorm2d(512, eps=1e-05)\n",
      "          )\n",
      "        )\n",
      "        (1): Bottleneck(\n",
      "          (conv1): Conv2d(512, 128, kernel_size=(1, 1), stride=(1, 1), bias=False)\n",
      "          (bn1): FrozenBatchNorm2d(128, eps=1e-05)\n",
      "          (conv2): Conv2d(128, 128, kernel_size=(3, 3), stride=(1, 1), padding=(1, 1), bias=False)\n",
      "          (bn2): FrozenBatchNorm2d(128, eps=1e-05)\n",
      "          (conv3): Conv2d(128, 512, kernel_size=(1, 1), stride=(1, 1), bias=False)\n",
      "          (bn3): FrozenBatchNorm2d(512, eps=1e-05)\n",
      "          (relu): ReLU(inplace=True)\n",
      "        )\n",
      "        (2): Bottleneck(\n",
      "          (conv1): Conv2d(512, 128, kernel_size=(1, 1), stride=(1, 1), bias=False)\n",
      "          (bn1): FrozenBatchNorm2d(128, eps=1e-05)\n",
      "          (conv2): Conv2d(128, 128, kernel_size=(3, 3), stride=(1, 1), padding=(1, 1), bias=False)\n",
      "          (bn2): FrozenBatchNorm2d(128, eps=1e-05)\n",
      "          (conv3): Conv2d(128, 512, kernel_size=(1, 1), stride=(1, 1), bias=False)\n",
      "          (bn3): FrozenBatchNorm2d(512, eps=1e-05)\n",
      "          (relu): ReLU(inplace=True)\n",
      "        )\n",
      "        (3): Bottleneck(\n",
      "          (conv1): Conv2d(512, 128, kernel_size=(1, 1), stride=(1, 1), bias=False)\n",
      "          (bn1): FrozenBatchNorm2d(128, eps=1e-05)\n",
      "          (conv2): Conv2d(128, 128, kernel_size=(3, 3), stride=(1, 1), padding=(1, 1), bias=False)\n",
      "          (bn2): FrozenBatchNorm2d(128, eps=1e-05)\n",
      "          (conv3): Conv2d(128, 512, kernel_size=(1, 1), stride=(1, 1), bias=False)\n",
      "          (bn3): FrozenBatchNorm2d(512, eps=1e-05)\n",
      "          (relu): ReLU(inplace=True)\n",
      "        )\n",
      "      )\n",
      "      (layer3): Sequential(\n",
      "        (0): Bottleneck(\n",
      "          (conv1): Conv2d(512, 256, kernel_size=(1, 1), stride=(1, 1), bias=False)\n",
      "          (bn1): FrozenBatchNorm2d(256, eps=1e-05)\n",
      "          (conv2): Conv2d(256, 256, kernel_size=(3, 3), stride=(2, 2), padding=(1, 1), bias=False)\n",
      "          (bn2): FrozenBatchNorm2d(256, eps=1e-05)\n",
      "          (conv3): Conv2d(256, 1024, kernel_size=(1, 1), stride=(1, 1), bias=False)\n",
      "          (bn3): FrozenBatchNorm2d(1024, eps=1e-05)\n",
      "          (relu): ReLU(inplace=True)\n",
      "          (downsample): Sequential(\n",
      "            (0): Conv2d(512, 1024, kernel_size=(1, 1), stride=(2, 2), bias=False)\n",
      "            (1): FrozenBatchNorm2d(1024, eps=1e-05)\n",
      "          )\n",
      "        )\n",
      "        (1): Bottleneck(\n",
      "          (conv1): Conv2d(1024, 256, kernel_size=(1, 1), stride=(1, 1), bias=False)\n",
      "          (bn1): FrozenBatchNorm2d(256, eps=1e-05)\n",
      "          (conv2): Conv2d(256, 256, kernel_size=(3, 3), stride=(1, 1), padding=(1, 1), bias=False)\n",
      "          (bn2): FrozenBatchNorm2d(256, eps=1e-05)\n",
      "          (conv3): Conv2d(256, 1024, kernel_size=(1, 1), stride=(1, 1), bias=False)\n",
      "          (bn3): FrozenBatchNorm2d(1024, eps=1e-05)\n",
      "          (relu): ReLU(inplace=True)\n",
      "        )\n",
      "        (2): Bottleneck(\n",
      "          (conv1): Conv2d(1024, 256, kernel_size=(1, 1), stride=(1, 1), bias=False)\n",
      "          (bn1): FrozenBatchNorm2d(256, eps=1e-05)\n",
      "          (conv2): Conv2d(256, 256, kernel_size=(3, 3), stride=(1, 1), padding=(1, 1), bias=False)\n",
      "          (bn2): FrozenBatchNorm2d(256, eps=1e-05)\n",
      "          (conv3): Conv2d(256, 1024, kernel_size=(1, 1), stride=(1, 1), bias=False)\n",
      "          (bn3): FrozenBatchNorm2d(1024, eps=1e-05)\n",
      "          (relu): ReLU(inplace=True)\n",
      "        )\n",
      "        (3): Bottleneck(\n",
      "          (conv1): Conv2d(1024, 256, kernel_size=(1, 1), stride=(1, 1), bias=False)\n",
      "          (bn1): FrozenBatchNorm2d(256, eps=1e-05)\n",
      "          (conv2): Conv2d(256, 256, kernel_size=(3, 3), stride=(1, 1), padding=(1, 1), bias=False)\n",
      "          (bn2): FrozenBatchNorm2d(256, eps=1e-05)\n",
      "          (conv3): Conv2d(256, 1024, kernel_size=(1, 1), stride=(1, 1), bias=False)\n",
      "          (bn3): FrozenBatchNorm2d(1024, eps=1e-05)\n",
      "          (relu): ReLU(inplace=True)\n",
      "        )\n",
      "        (4): Bottleneck(\n",
      "          (conv1): Conv2d(1024, 256, kernel_size=(1, 1), stride=(1, 1), bias=False)\n",
      "          (bn1): FrozenBatchNorm2d(256, eps=1e-05)\n",
      "          (conv2): Conv2d(256, 256, kernel_size=(3, 3), stride=(1, 1), padding=(1, 1), bias=False)\n",
      "          (bn2): FrozenBatchNorm2d(256, eps=1e-05)\n",
      "          (conv3): Conv2d(256, 1024, kernel_size=(1, 1), stride=(1, 1), bias=False)\n",
      "          (bn3): FrozenBatchNorm2d(1024, eps=1e-05)\n",
      "          (relu): ReLU(inplace=True)\n",
      "        )\n",
      "        (5): Bottleneck(\n",
      "          (conv1): Conv2d(1024, 256, kernel_size=(1, 1), stride=(1, 1), bias=False)\n",
      "          (bn1): FrozenBatchNorm2d(256, eps=1e-05)\n",
      "          (conv2): Conv2d(256, 256, kernel_size=(3, 3), stride=(1, 1), padding=(1, 1), bias=False)\n",
      "          (bn2): FrozenBatchNorm2d(256, eps=1e-05)\n",
      "          (conv3): Conv2d(256, 1024, kernel_size=(1, 1), stride=(1, 1), bias=False)\n",
      "          (bn3): FrozenBatchNorm2d(1024, eps=1e-05)\n",
      "          (relu): ReLU(inplace=True)\n",
      "        )\n",
      "      )\n",
      "      (layer4): Sequential(\n",
      "        (0): Bottleneck(\n",
      "          (conv1): Conv2d(1024, 512, kernel_size=(1, 1), stride=(1, 1), bias=False)\n",
      "          (bn1): FrozenBatchNorm2d(512, eps=1e-05)\n",
      "          (conv2): Conv2d(512, 512, kernel_size=(3, 3), stride=(2, 2), padding=(1, 1), bias=False)\n",
      "          (bn2): FrozenBatchNorm2d(512, eps=1e-05)\n",
      "          (conv3): Conv2d(512, 2048, kernel_size=(1, 1), stride=(1, 1), bias=False)\n",
      "          (bn3): FrozenBatchNorm2d(2048, eps=1e-05)\n",
      "          (relu): ReLU(inplace=True)\n",
      "          (downsample): Sequential(\n",
      "            (0): Conv2d(1024, 2048, kernel_size=(1, 1), stride=(2, 2), bias=False)\n",
      "            (1): FrozenBatchNorm2d(2048, eps=1e-05)\n",
      "          )\n",
      "        )\n",
      "        (1): Bottleneck(\n",
      "          (conv1): Conv2d(2048, 512, kernel_size=(1, 1), stride=(1, 1), bias=False)\n",
      "          (bn1): FrozenBatchNorm2d(512, eps=1e-05)\n",
      "          (conv2): Conv2d(512, 512, kernel_size=(3, 3), stride=(1, 1), padding=(1, 1), bias=False)\n",
      "          (bn2): FrozenBatchNorm2d(512, eps=1e-05)\n",
      "          (conv3): Conv2d(512, 2048, kernel_size=(1, 1), stride=(1, 1), bias=False)\n",
      "          (bn3): FrozenBatchNorm2d(2048, eps=1e-05)\n",
      "          (relu): ReLU(inplace=True)\n",
      "        )\n",
      "        (2): Bottleneck(\n",
      "          (conv1): Conv2d(2048, 512, kernel_size=(1, 1), stride=(1, 1), bias=False)\n",
      "          (bn1): FrozenBatchNorm2d(512, eps=1e-05)\n",
      "          (conv2): Conv2d(512, 512, kernel_size=(3, 3), stride=(1, 1), padding=(1, 1), bias=False)\n",
      "          (bn2): FrozenBatchNorm2d(512, eps=1e-05)\n",
      "          (conv3): Conv2d(512, 2048, kernel_size=(1, 1), stride=(1, 1), bias=False)\n",
      "          (bn3): FrozenBatchNorm2d(2048, eps=1e-05)\n",
      "          (relu): ReLU(inplace=True)\n",
      "        )\n",
      "      )\n",
      "    )\n",
      "    (fpn): FeaturePyramidNetwork(\n",
      "      (inner_blocks): ModuleList(\n",
      "        (0): Conv2dNormActivation(\n",
      "          (0): Conv2d(256, 256, kernel_size=(1, 1), stride=(1, 1))\n",
      "        )\n",
      "        (1): Conv2dNormActivation(\n",
      "          (0): Conv2d(512, 256, kernel_size=(1, 1), stride=(1, 1))\n",
      "        )\n",
      "        (2): Conv2dNormActivation(\n",
      "          (0): Conv2d(1024, 256, kernel_size=(1, 1), stride=(1, 1))\n",
      "        )\n",
      "        (3): Conv2dNormActivation(\n",
      "          (0): Conv2d(2048, 256, kernel_size=(1, 1), stride=(1, 1))\n",
      "        )\n",
      "      )\n",
      "      (layer_blocks): ModuleList(\n",
      "        (0-3): 4 x Conv2dNormActivation(\n",
      "          (0): Conv2d(256, 256, kernel_size=(3, 3), stride=(1, 1), padding=(1, 1))\n",
      "        )\n",
      "      )\n",
      "      (extra_blocks): LastLevelMaxPool()\n",
      "    )\n",
      "  )\n",
      "  (rpn): RegionProposalNetwork(\n",
      "    (anchor_generator): AnchorGenerator()\n",
      "    (head): RPNHead(\n",
      "      (conv): Sequential(\n",
      "        (0): Conv2dNormActivation(\n",
      "          (0): Conv2d(256, 256, kernel_size=(3, 3), stride=(1, 1), padding=(1, 1))\n",
      "          (1): ReLU(inplace=True)\n",
      "        )\n",
      "      )\n",
      "      (cls_logits): Conv2d(256, 3, kernel_size=(1, 1), stride=(1, 1))\n",
      "      (bbox_pred): Conv2d(256, 12, kernel_size=(1, 1), stride=(1, 1))\n",
      "    )\n",
      "  )\n",
      "  (roi_heads): RoIHeads(\n",
      "    (box_roi_pool): MultiScaleRoIAlign(featmap_names=['0', '1', '2', '3'], output_size=(7, 7), sampling_ratio=2)\n",
      "    (box_head): TwoMLPHead(\n",
      "      (fc6): Linear(in_features=12544, out_features=1024, bias=True)\n",
      "      (fc7): Linear(in_features=1024, out_features=1024, bias=True)\n",
      "    )\n",
      "    (box_predictor): FastRCNNPredictor(\n",
      "      (cls_score): Linear(in_features=1024, out_features=2, bias=True)\n",
      "      (bbox_pred): Linear(in_features=1024, out_features=8, bias=True)\n",
      "    )\n",
      "    (keypoint_roi_pool): MultiScaleRoIAlign(featmap_names=['0', '1', '2', '3'], output_size=(14, 14), sampling_ratio=2)\n",
      "    (keypoint_head): KeypointRCNNHeads(\n",
      "      (0): Conv2d(256, 512, kernel_size=(3, 3), stride=(1, 1), padding=(1, 1))\n",
      "      (1): ReLU(inplace=True)\n",
      "      (2): Conv2d(512, 512, kernel_size=(3, 3), stride=(1, 1), padding=(1, 1))\n",
      "      (3): ReLU(inplace=True)\n",
      "      (4): Conv2d(512, 512, kernel_size=(3, 3), stride=(1, 1), padding=(1, 1))\n",
      "      (5): ReLU(inplace=True)\n",
      "      (6): Conv2d(512, 512, kernel_size=(3, 3), stride=(1, 1), padding=(1, 1))\n",
      "      (7): ReLU(inplace=True)\n",
      "      (8): Conv2d(512, 512, kernel_size=(3, 3), stride=(1, 1), padding=(1, 1))\n",
      "      (9): ReLU(inplace=True)\n",
      "      (10): Conv2d(512, 512, kernel_size=(3, 3), stride=(1, 1), padding=(1, 1))\n",
      "      (11): ReLU(inplace=True)\n",
      "      (12): Conv2d(512, 512, kernel_size=(3, 3), stride=(1, 1), padding=(1, 1))\n",
      "      (13): ReLU(inplace=True)\n",
      "      (14): Conv2d(512, 512, kernel_size=(3, 3), stride=(1, 1), padding=(1, 1))\n",
      "      (15): ReLU(inplace=True)\n",
      "    )\n",
      "    (keypoint_predictor): KeypointRCNNPredictor(\n",
      "      (kps_score_lowres): ConvTranspose2d(512, 2, kernel_size=(4, 4), stride=(2, 2), padding=(1, 1))\n",
      "    )\n",
      "  )\n",
      ")\n"
     ]
    }
   ],
   "source": [
    "model = torchvision.models.detection.keypointrcnn_resnet50_fpn(pretrained=False,\n",
    "                                                                   pretrained_backbone=True,\n",
    "                                                                   num_keypoints=2,\n",
    "                                                                   num_classes = 2)\n",
    "model.to(device).train()\n",
    "print(model)"
   ]
  },
  {
   "cell_type": "code",
   "execution_count": 68,
   "metadata": {},
   "outputs": [
    {
     "name": "stdout",
     "output_type": "stream",
     "text": [
      "Epoch 1/100\n"
     ]
    },
    {
     "name": "stderr",
     "output_type": "stream",
     "text": [
      "100%|██████████| 7/7 [00:10<00:00,  1.46s/it]\n",
      "100%|██████████| 3/3 [00:01<00:00,  2.02it/s]\n"
     ]
    },
    {
     "name": "stdout",
     "output_type": "stream",
     "text": [
      "Training Loss: 18.8169070652553\n",
      "Validation Loss: 8.252510706583658\n",
      "Improved validation loss at epoch 1. Saving model...\n",
      "Epoch 2/100\n"
     ]
    },
    {
     "name": "stderr",
     "output_type": "stream",
     "text": [
      "100%|██████████| 7/7 [00:10<00:00,  1.44s/it]\n",
      "100%|██████████| 3/3 [00:01<00:00,  1.98it/s]\n"
     ]
    },
    {
     "name": "stdout",
     "output_type": "stream",
     "text": [
      "Training Loss: 8.228113174438477\n",
      "Validation Loss: 8.12425454457601\n",
      "Improved validation loss at epoch 2. Saving model...\n",
      "Epoch 3/100\n"
     ]
    },
    {
     "name": "stderr",
     "output_type": "stream",
     "text": [
      "100%|██████████| 7/7 [00:10<00:00,  1.50s/it]\n",
      "100%|██████████| 3/3 [00:01<00:00,  1.97it/s]\n"
     ]
    },
    {
     "name": "stdout",
     "output_type": "stream",
     "text": [
      "Training Loss: 8.161018371582031\n",
      "Validation Loss: 8.060397148132324\n",
      "Improved validation loss at epoch 3. Saving model...\n",
      "Epoch 4/100\n"
     ]
    },
    {
     "name": "stderr",
     "output_type": "stream",
     "text": [
      "100%|██████████| 7/7 [00:10<00:00,  1.47s/it]\n",
      "100%|██████████| 3/3 [00:01<00:00,  2.02it/s]\n"
     ]
    },
    {
     "name": "stdout",
     "output_type": "stream",
     "text": [
      "Training Loss: 8.129038674490792\n",
      "Validation Loss: 8.045127232869467\n",
      "Improved validation loss at epoch 4. Saving model...\n",
      "Epoch 5/100\n"
     ]
    },
    {
     "name": "stderr",
     "output_type": "stream",
     "text": [
      "100%|██████████| 7/7 [00:10<00:00,  1.50s/it]\n",
      "100%|██████████| 3/3 [00:01<00:00,  2.00it/s]\n"
     ]
    },
    {
     "name": "stdout",
     "output_type": "stream",
     "text": [
      "Training Loss: 8.111178943089076\n",
      "Validation Loss: 8.03645372390747\n",
      "Improved validation loss at epoch 5. Saving model...\n",
      "Epoch 6/100\n"
     ]
    },
    {
     "name": "stderr",
     "output_type": "stream",
     "text": [
      "100%|██████████| 7/7 [00:10<00:00,  1.48s/it]\n",
      "100%|██████████| 3/3 [00:01<00:00,  2.03it/s]\n"
     ]
    },
    {
     "name": "stdout",
     "output_type": "stream",
     "text": [
      "Training Loss: 8.117535999843053\n",
      "Validation Loss: 7.984595934549968\n",
      "Improved validation loss at epoch 6. Saving model...\n",
      "Epoch 7/100\n"
     ]
    },
    {
     "name": "stderr",
     "output_type": "stream",
     "text": [
      "100%|██████████| 7/7 [00:10<00:00,  1.48s/it]\n",
      "100%|██████████| 3/3 [00:01<00:00,  2.02it/s]\n"
     ]
    },
    {
     "name": "stdout",
     "output_type": "stream",
     "text": [
      "Training Loss: 8.139726638793945\n",
      "Validation Loss: 8.001631259918213\n",
      "Epoch 8/100\n"
     ]
    },
    {
     "name": "stderr",
     "output_type": "stream",
     "text": [
      "100%|██████████| 7/7 [00:10<00:00,  1.50s/it]\n",
      "100%|██████████| 3/3 [00:01<00:00,  2.02it/s]\n"
     ]
    },
    {
     "name": "stdout",
     "output_type": "stream",
     "text": [
      "Training Loss: 8.130216326032366\n",
      "Validation Loss: 8.037124633789062\n",
      "Epoch 9/100\n"
     ]
    },
    {
     "name": "stderr",
     "output_type": "stream",
     "text": [
      "100%|██████████| 7/7 [00:10<00:00,  1.49s/it]\n",
      "100%|██████████| 3/3 [00:01<00:00,  2.01it/s]\n"
     ]
    },
    {
     "name": "stdout",
     "output_type": "stream",
     "text": [
      "Training Loss: 8.096522467476982\n",
      "Validation Loss: 8.058019161224365\n",
      "Epoch 10/100\n"
     ]
    },
    {
     "name": "stderr",
     "output_type": "stream",
     "text": [
      "100%|██████████| 7/7 [00:10<00:00,  1.51s/it]\n",
      "100%|██████████| 3/3 [00:01<00:00,  2.00it/s]\n"
     ]
    },
    {
     "name": "stdout",
     "output_type": "stream",
     "text": [
      "Training Loss: 8.142434256417411\n",
      "Validation Loss: 8.01856517791748\n",
      "Epoch 11/100\n"
     ]
    },
    {
     "name": "stderr",
     "output_type": "stream",
     "text": [
      "100%|██████████| 7/7 [00:10<00:00,  1.50s/it]\n",
      "100%|██████████| 3/3 [00:01<00:00,  2.01it/s]\n"
     ]
    },
    {
     "name": "stdout",
     "output_type": "stream",
     "text": [
      "Training Loss: 8.113694190979004\n",
      "Validation Loss: 8.00320291519165\n",
      "Epoch 12/100\n"
     ]
    },
    {
     "name": "stderr",
     "output_type": "stream",
     "text": [
      "100%|██████████| 7/7 [00:10<00:00,  1.49s/it]\n",
      "100%|██████████| 3/3 [00:01<00:00,  1.98it/s]\n"
     ]
    },
    {
     "name": "stdout",
     "output_type": "stream",
     "text": [
      "Training Loss: 8.088689531598773\n",
      "Validation Loss: 8.01830275853475\n",
      "Epoch 13/100\n"
     ]
    },
    {
     "name": "stderr",
     "output_type": "stream",
     "text": [
      "100%|██████████| 7/7 [00:10<00:00,  1.51s/it]\n",
      "100%|██████████| 3/3 [00:01<00:00,  1.98it/s]\n"
     ]
    },
    {
     "name": "stdout",
     "output_type": "stream",
     "text": [
      "Training Loss: 8.123494148254395\n",
      "Validation Loss: 8.051843961079916\n",
      "Epoch 14/100\n"
     ]
    },
    {
     "name": "stderr",
     "output_type": "stream",
     "text": [
      "100%|██████████| 7/7 [00:10<00:00,  1.47s/it]\n",
      "100%|██████████| 3/3 [00:01<00:00,  1.96it/s]\n"
     ]
    },
    {
     "name": "stdout",
     "output_type": "stream",
     "text": [
      "Training Loss: 8.132243428911481\n",
      "Validation Loss: 8.032611846923828\n",
      "Epoch 15/100\n"
     ]
    },
    {
     "name": "stderr",
     "output_type": "stream",
     "text": [
      "100%|██████████| 7/7 [00:10<00:00,  1.47s/it]\n",
      "100%|██████████| 3/3 [00:01<00:00,  1.97it/s]\n"
     ]
    },
    {
     "name": "stdout",
     "output_type": "stream",
     "text": [
      "Training Loss: 8.11491094316755\n",
      "Validation Loss: 7.9545572598775225\n",
      "Improved validation loss at epoch 15. Saving model...\n",
      "Epoch 16/100\n"
     ]
    },
    {
     "name": "stderr",
     "output_type": "stream",
     "text": [
      "100%|██████████| 7/7 [00:10<00:00,  1.51s/it]\n",
      "100%|██████████| 3/3 [00:01<00:00,  2.01it/s]\n"
     ]
    },
    {
     "name": "stdout",
     "output_type": "stream",
     "text": [
      "Training Loss: 8.10125800541469\n",
      "Validation Loss: 8.016090075174967\n",
      "Epoch 17/100\n"
     ]
    },
    {
     "name": "stderr",
     "output_type": "stream",
     "text": [
      "100%|██████████| 7/7 [00:10<00:00,  1.51s/it]\n",
      "100%|██████████| 3/3 [00:01<00:00,  2.04it/s]\n"
     ]
    },
    {
     "name": "stdout",
     "output_type": "stream",
     "text": [
      "Training Loss: 8.137000152042933\n",
      "Validation Loss: 8.055747509002686\n",
      "Epoch 18/100\n"
     ]
    },
    {
     "name": "stderr",
     "output_type": "stream",
     "text": [
      "100%|██████████| 7/7 [00:10<00:00,  1.51s/it]\n",
      "100%|██████████| 3/3 [00:01<00:00,  1.99it/s]\n"
     ]
    },
    {
     "name": "stdout",
     "output_type": "stream",
     "text": [
      "Training Loss: 8.114581653050013\n",
      "Validation Loss: 7.983754475911458\n",
      "Epoch 19/100\n"
     ]
    },
    {
     "name": "stderr",
     "output_type": "stream",
     "text": [
      "100%|██████████| 7/7 [00:10<00:00,  1.52s/it]\n",
      "100%|██████████| 3/3 [00:01<00:00,  2.01it/s]\n"
     ]
    },
    {
     "name": "stdout",
     "output_type": "stream",
     "text": [
      "Training Loss: 8.154396602085658\n",
      "Validation Loss: 8.019099235534668\n",
      "Epoch 20/100\n"
     ]
    },
    {
     "name": "stderr",
     "output_type": "stream",
     "text": [
      "100%|██████████| 7/7 [00:10<00:00,  1.48s/it]\n",
      "100%|██████████| 3/3 [00:01<00:00,  2.01it/s]\n"
     ]
    },
    {
     "name": "stdout",
     "output_type": "stream",
     "text": [
      "Training Loss: 8.152530125209264\n",
      "Validation Loss: 8.02754577000936\n",
      "Epoch 21/100\n"
     ]
    },
    {
     "name": "stderr",
     "output_type": "stream",
     "text": [
      "100%|██████████| 7/7 [00:10<00:00,  1.51s/it]\n",
      "100%|██████████| 3/3 [00:01<00:00,  2.03it/s]\n"
     ]
    },
    {
     "name": "stdout",
     "output_type": "stream",
     "text": [
      "Training Loss: 8.13905130113874\n",
      "Validation Loss: 8.018320719401041\n",
      "Epoch 22/100\n"
     ]
    },
    {
     "name": "stderr",
     "output_type": "stream",
     "text": [
      "100%|██████████| 7/7 [00:10<00:00,  1.47s/it]\n",
      "100%|██████████| 3/3 [00:01<00:00,  2.04it/s]\n"
     ]
    },
    {
     "name": "stdout",
     "output_type": "stream",
     "text": [
      "Training Loss: 8.136007036481585\n",
      "Validation Loss: 8.00413735707601\n",
      "Epoch 23/100\n"
     ]
    },
    {
     "name": "stderr",
     "output_type": "stream",
     "text": [
      "100%|██████████| 7/7 [00:10<00:00,  1.49s/it]\n",
      "100%|██████████| 3/3 [00:01<00:00,  2.01it/s]\n"
     ]
    },
    {
     "name": "stdout",
     "output_type": "stream",
     "text": [
      "Training Loss: 8.106035096304756\n",
      "Validation Loss: 8.00477409362793\n",
      "Epoch 24/100\n"
     ]
    },
    {
     "name": "stderr",
     "output_type": "stream",
     "text": [
      "100%|██████████| 7/7 [00:10<00:00,  1.51s/it]\n",
      "100%|██████████| 3/3 [00:01<00:00,  1.96it/s]\n"
     ]
    },
    {
     "name": "stdout",
     "output_type": "stream",
     "text": [
      "Training Loss: 8.12233488900321\n",
      "Validation Loss: 8.018157800038656\n",
      "Epoch 25/100\n"
     ]
    },
    {
     "name": "stderr",
     "output_type": "stream",
     "text": [
      "100%|██████████| 7/7 [00:10<00:00,  1.51s/it]\n",
      "100%|██████████| 3/3 [00:01<00:00,  2.02it/s]\n"
     ]
    },
    {
     "name": "stdout",
     "output_type": "stream",
     "text": [
      "Training Loss: 8.140280723571777\n",
      "Validation Loss: 8.028163274129232\n",
      "Epoch 26/100\n"
     ]
    },
    {
     "name": "stderr",
     "output_type": "stream",
     "text": [
      "100%|██████████| 7/7 [00:10<00:00,  1.50s/it]\n",
      "100%|██████████| 3/3 [00:01<00:00,  1.96it/s]\n"
     ]
    },
    {
     "name": "stdout",
     "output_type": "stream",
     "text": [
      "Training Loss: 8.163945743015834\n",
      "Validation Loss: 8.010200182596842\n",
      "Epoch 27/100\n"
     ]
    },
    {
     "name": "stderr",
     "output_type": "stream",
     "text": [
      "100%|██████████| 7/7 [00:10<00:00,  1.47s/it]\n",
      "100%|██████████| 3/3 [00:01<00:00,  2.03it/s]\n"
     ]
    },
    {
     "name": "stdout",
     "output_type": "stream",
     "text": [
      "Training Loss: 8.119032723563057\n",
      "Validation Loss: 8.035441716512045\n",
      "Epoch 28/100\n"
     ]
    },
    {
     "name": "stderr",
     "output_type": "stream",
     "text": [
      "100%|██████████| 7/7 [00:10<00:00,  1.48s/it]\n",
      "100%|██████████| 3/3 [00:01<00:00,  2.01it/s]\n"
     ]
    },
    {
     "name": "stdout",
     "output_type": "stream",
     "text": [
      "Training Loss: 8.135593141828265\n",
      "Validation Loss: 8.057615280151367\n",
      "Epoch 29/100\n"
     ]
    },
    {
     "name": "stderr",
     "output_type": "stream",
     "text": [
      "100%|██████████| 7/7 [00:10<00:00,  1.48s/it]\n",
      "100%|██████████| 3/3 [00:01<00:00,  2.01it/s]\n"
     ]
    },
    {
     "name": "stdout",
     "output_type": "stream",
     "text": [
      "Training Loss: 8.142105783735003\n",
      "Validation Loss: 8.012513319651285\n",
      "Epoch 30/100\n"
     ]
    },
    {
     "name": "stderr",
     "output_type": "stream",
     "text": [
      "100%|██████████| 7/7 [00:10<00:00,  1.49s/it]\n",
      "100%|██████████| 3/3 [00:01<00:00,  2.07it/s]\n"
     ]
    },
    {
     "name": "stdout",
     "output_type": "stream",
     "text": [
      "Training Loss: 8.120234898158483\n",
      "Validation Loss: 8.050104141235352\n",
      "Epoch 31/100\n"
     ]
    },
    {
     "name": "stderr",
     "output_type": "stream",
     "text": [
      "100%|██████████| 7/7 [00:10<00:00,  1.49s/it]\n",
      "100%|██████████| 3/3 [00:01<00:00,  2.03it/s]\n"
     ]
    },
    {
     "name": "stdout",
     "output_type": "stream",
     "text": [
      "Training Loss: 8.122323444911412\n",
      "Validation Loss: 8.045930703481039\n",
      "Epoch 32/100\n"
     ]
    },
    {
     "name": "stderr",
     "output_type": "stream",
     "text": [
      "100%|██████████| 7/7 [00:10<00:00,  1.51s/it]\n",
      "100%|██████████| 3/3 [00:01<00:00,  2.02it/s]\n"
     ]
    },
    {
     "name": "stdout",
     "output_type": "stream",
     "text": [
      "Training Loss: 8.09864970615932\n",
      "Validation Loss: 8.007959524790445\n",
      "Epoch 33/100\n"
     ]
    },
    {
     "name": "stderr",
     "output_type": "stream",
     "text": [
      "100%|██████████| 7/7 [00:10<00:00,  1.49s/it]\n",
      "100%|██████████| 3/3 [00:01<00:00,  2.04it/s]\n"
     ]
    },
    {
     "name": "stdout",
     "output_type": "stream",
     "text": [
      "Training Loss: 8.10811001913888\n",
      "Validation Loss: 8.036423365275065\n",
      "Epoch 34/100\n"
     ]
    },
    {
     "name": "stderr",
     "output_type": "stream",
     "text": [
      "100%|██████████| 7/7 [00:10<00:00,  1.50s/it]\n",
      "100%|██████████| 3/3 [00:01<00:00,  1.99it/s]\n"
     ]
    },
    {
     "name": "stdout",
     "output_type": "stream",
     "text": [
      "Training Loss: 8.115340641566686\n",
      "Validation Loss: 7.997503121693929\n",
      "Epoch 35/100\n"
     ]
    },
    {
     "name": "stderr",
     "output_type": "stream",
     "text": [
      "100%|██████████| 7/7 [00:10<00:00,  1.50s/it]\n",
      "100%|██████████| 3/3 [00:01<00:00,  1.99it/s]\n"
     ]
    },
    {
     "name": "stdout",
     "output_type": "stream",
     "text": [
      "Training Loss: 8.092197145734515\n",
      "Validation Loss: 8.03770399093628\n",
      "Epoch 36/100\n"
     ]
    },
    {
     "name": "stderr",
     "output_type": "stream",
     "text": [
      "100%|██████████| 7/7 [00:10<00:00,  1.49s/it]\n",
      "100%|██████████| 3/3 [00:01<00:00,  2.01it/s]\n"
     ]
    },
    {
     "name": "stdout",
     "output_type": "stream",
     "text": [
      "Training Loss: 8.120668683733259\n",
      "Validation Loss: 8.023878892262777\n",
      "Epoch 37/100\n"
     ]
    },
    {
     "name": "stderr",
     "output_type": "stream",
     "text": [
      "100%|██████████| 7/7 [00:10<00:00,  1.52s/it]\n",
      "100%|██████████| 3/3 [00:01<00:00,  1.99it/s]\n"
     ]
    },
    {
     "name": "stdout",
     "output_type": "stream",
     "text": [
      "Training Loss: 8.131196703229632\n",
      "Validation Loss: 7.985025246938069\n",
      "Epoch 38/100\n"
     ]
    },
    {
     "name": "stderr",
     "output_type": "stream",
     "text": [
      "100%|██████████| 7/7 [00:10<00:00,  1.51s/it]\n",
      "100%|██████████| 3/3 [00:01<00:00,  1.97it/s]\n"
     ]
    },
    {
     "name": "stdout",
     "output_type": "stream",
     "text": [
      "Training Loss: 8.142320087977819\n",
      "Validation Loss: 8.00314203898112\n",
      "Epoch 39/100\n"
     ]
    },
    {
     "name": "stderr",
     "output_type": "stream",
     "text": [
      "100%|██████████| 7/7 [00:10<00:00,  1.49s/it]\n",
      "100%|██████████| 3/3 [00:01<00:00,  2.01it/s]\n"
     ]
    },
    {
     "name": "stdout",
     "output_type": "stream",
     "text": [
      "Training Loss: 8.122194562639509\n",
      "Validation Loss: 8.020066102345785\n",
      "Epoch 40/100\n"
     ]
    },
    {
     "name": "stderr",
     "output_type": "stream",
     "text": [
      "100%|██████████| 7/7 [00:10<00:00,  1.44s/it]\n",
      "100%|██████████| 3/3 [00:01<00:00,  2.07it/s]\n"
     ]
    },
    {
     "name": "stdout",
     "output_type": "stream",
     "text": [
      "Training Loss: 8.137371335710798\n",
      "Validation Loss: 8.0370086034139\n",
      "Epoch 41/100\n"
     ]
    },
    {
     "name": "stderr",
     "output_type": "stream",
     "text": [
      "100%|██████████| 7/7 [00:10<00:00,  1.49s/it]\n",
      "100%|██████████| 3/3 [00:01<00:00,  2.04it/s]\n"
     ]
    },
    {
     "name": "stdout",
     "output_type": "stream",
     "text": [
      "Training Loss: 8.145207132611956\n",
      "Validation Loss: 8.023174285888672\n",
      "Epoch 42/100\n"
     ]
    },
    {
     "name": "stderr",
     "output_type": "stream",
     "text": [
      "100%|██████████| 7/7 [00:10<00:00,  1.47s/it]\n",
      "100%|██████████| 3/3 [00:01<00:00,  2.04it/s]\n"
     ]
    },
    {
     "name": "stdout",
     "output_type": "stream",
     "text": [
      "Training Loss: 8.130304064069476\n",
      "Validation Loss: 8.022837162017822\n",
      "Epoch 43/100\n"
     ]
    },
    {
     "name": "stderr",
     "output_type": "stream",
     "text": [
      "100%|██████████| 7/7 [00:10<00:00,  1.45s/it]\n",
      "100%|██████████| 3/3 [00:01<00:00,  2.05it/s]\n"
     ]
    },
    {
     "name": "stdout",
     "output_type": "stream",
     "text": [
      "Training Loss: 8.122588430132184\n",
      "Validation Loss: 8.001609643300375\n",
      "Epoch 44/100\n"
     ]
    },
    {
     "name": "stderr",
     "output_type": "stream",
     "text": [
      "100%|██████████| 7/7 [00:10<00:00,  1.46s/it]\n",
      "100%|██████████| 3/3 [00:01<00:00,  2.03it/s]\n"
     ]
    },
    {
     "name": "stdout",
     "output_type": "stream",
     "text": [
      "Training Loss: 8.142820494515556\n",
      "Validation Loss: 8.023171583811441\n",
      "Epoch 45/100\n"
     ]
    },
    {
     "name": "stderr",
     "output_type": "stream",
     "text": [
      "100%|██████████| 7/7 [00:10<00:00,  1.50s/it]\n",
      "100%|██████████| 3/3 [00:01<00:00,  2.02it/s]\n"
     ]
    },
    {
     "name": "stdout",
     "output_type": "stream",
     "text": [
      "Training Loss: 8.099706513541085\n",
      "Validation Loss: 7.966420809427897\n",
      "Epoch 46/100\n"
     ]
    },
    {
     "name": "stderr",
     "output_type": "stream",
     "text": [
      "100%|██████████| 7/7 [00:10<00:00,  1.49s/it]\n",
      "100%|██████████| 3/3 [00:01<00:00,  2.01it/s]\n"
     ]
    },
    {
     "name": "stdout",
     "output_type": "stream",
     "text": [
      "Training Loss: 8.119436400277275\n",
      "Validation Loss: 8.01385752360026\n",
      "Epoch 47/100\n"
     ]
    },
    {
     "name": "stderr",
     "output_type": "stream",
     "text": [
      "100%|██████████| 7/7 [00:10<00:00,  1.50s/it]\n",
      "100%|██████████| 3/3 [00:01<00:00,  2.04it/s]\n"
     ]
    },
    {
     "name": "stdout",
     "output_type": "stream",
     "text": [
      "Training Loss: 8.155734879629952\n",
      "Validation Loss: 8.053699493408203\n",
      "Epoch 48/100\n"
     ]
    },
    {
     "name": "stderr",
     "output_type": "stream",
     "text": [
      "100%|██████████| 7/7 [00:10<00:00,  1.49s/it]\n",
      "100%|██████████| 3/3 [00:01<00:00,  2.01it/s]\n"
     ]
    },
    {
     "name": "stdout",
     "output_type": "stream",
     "text": [
      "Training Loss: 8.154209409441266\n",
      "Validation Loss: 8.026148478190104\n",
      "Epoch 49/100\n"
     ]
    },
    {
     "name": "stderr",
     "output_type": "stream",
     "text": [
      "100%|██████████| 7/7 [00:10<00:00,  1.51s/it]\n",
      "100%|██████████| 3/3 [00:01<00:00,  2.02it/s]\n"
     ]
    },
    {
     "name": "stdout",
     "output_type": "stream",
     "text": [
      "Training Loss: 8.12669576917376\n",
      "Validation Loss: 8.006005128224691\n",
      "Epoch 50/100\n"
     ]
    },
    {
     "name": "stderr",
     "output_type": "stream",
     "text": [
      "100%|██████████| 7/7 [00:10<00:00,  1.51s/it]\n",
      "100%|██████████| 3/3 [00:01<00:00,  2.02it/s]\n"
     ]
    },
    {
     "name": "stdout",
     "output_type": "stream",
     "text": [
      "Training Loss: 8.116852760314941\n",
      "Validation Loss: 7.98790709177653\n",
      "Epoch 51/100\n"
     ]
    },
    {
     "name": "stderr",
     "output_type": "stream",
     "text": [
      "100%|██████████| 7/7 [00:10<00:00,  1.50s/it]\n",
      "100%|██████████| 3/3 [00:01<00:00,  2.03it/s]\n"
     ]
    },
    {
     "name": "stdout",
     "output_type": "stream",
     "text": [
      "Training Loss: 8.12578364780971\n",
      "Validation Loss: 7.990678151448567\n",
      "Epoch 52/100\n"
     ]
    },
    {
     "name": "stderr",
     "output_type": "stream",
     "text": [
      "100%|██████████| 7/7 [00:10<00:00,  1.51s/it]\n",
      "100%|██████████| 3/3 [00:01<00:00,  1.99it/s]\n"
     ]
    },
    {
     "name": "stdout",
     "output_type": "stream",
     "text": [
      "Training Loss: 8.143487930297852\n",
      "Validation Loss: 7.999101161956787\n",
      "Epoch 53/100\n"
     ]
    },
    {
     "name": "stderr",
     "output_type": "stream",
     "text": [
      "100%|██████████| 7/7 [00:10<00:00,  1.48s/it]\n",
      "100%|██████████| 3/3 [00:01<00:00,  1.99it/s]\n"
     ]
    },
    {
     "name": "stdout",
     "output_type": "stream",
     "text": [
      "Training Loss: 8.162519999912806\n",
      "Validation Loss: 7.997766335805257\n",
      "Epoch 54/100\n"
     ]
    },
    {
     "name": "stderr",
     "output_type": "stream",
     "text": [
      "100%|██████████| 7/7 [00:10<00:00,  1.50s/it]\n",
      "100%|██████████| 3/3 [00:01<00:00,  1.95it/s]\n"
     ]
    },
    {
     "name": "stdout",
     "output_type": "stream",
     "text": [
      "Training Loss: 8.116638456072126\n",
      "Validation Loss: 8.033379395802816\n",
      "Epoch 55/100\n"
     ]
    },
    {
     "name": "stderr",
     "output_type": "stream",
     "text": [
      "100%|██████████| 7/7 [00:10<00:00,  1.49s/it]\n",
      "100%|██████████| 3/3 [00:01<00:00,  2.02it/s]\n"
     ]
    },
    {
     "name": "stdout",
     "output_type": "stream",
     "text": [
      "Training Loss: 8.12255150931222\n",
      "Validation Loss: 8.053442478179932\n",
      "Epoch 56/100\n"
     ]
    },
    {
     "name": "stderr",
     "output_type": "stream",
     "text": [
      "100%|██████████| 7/7 [00:10<00:00,  1.52s/it]\n",
      "100%|██████████| 3/3 [00:01<00:00,  2.05it/s]\n"
     ]
    },
    {
     "name": "stdout",
     "output_type": "stream",
     "text": [
      "Training Loss: 8.12720775604248\n",
      "Validation Loss: 8.047578493754068\n",
      "Epoch 57/100\n"
     ]
    },
    {
     "name": "stderr",
     "output_type": "stream",
     "text": [
      "100%|██████████| 7/7 [00:10<00:00,  1.50s/it]\n",
      "100%|██████████| 3/3 [00:01<00:00,  2.00it/s]\n"
     ]
    },
    {
     "name": "stdout",
     "output_type": "stream",
     "text": [
      "Training Loss: 8.115861756461006\n",
      "Validation Loss: 8.00826915105184\n",
      "Epoch 58/100\n"
     ]
    },
    {
     "name": "stderr",
     "output_type": "stream",
     "text": [
      "100%|██████████| 7/7 [00:10<00:00,  1.52s/it]\n",
      "100%|██████████| 3/3 [00:01<00:00,  2.02it/s]\n"
     ]
    },
    {
     "name": "stdout",
     "output_type": "stream",
     "text": [
      "Training Loss: 8.120881489345006\n",
      "Validation Loss: 8.008687337239584\n",
      "Epoch 59/100\n"
     ]
    },
    {
     "name": "stderr",
     "output_type": "stream",
     "text": [
      "100%|██████████| 7/7 [00:10<00:00,  1.51s/it]\n",
      "100%|██████████| 3/3 [00:01<00:00,  1.98it/s]\n"
     ]
    },
    {
     "name": "stdout",
     "output_type": "stream",
     "text": [
      "Training Loss: 8.132508822849818\n",
      "Validation Loss: 8.019217809041342\n",
      "Epoch 60/100\n"
     ]
    },
    {
     "name": "stderr",
     "output_type": "stream",
     "text": [
      "100%|██████████| 7/7 [00:10<00:00,  1.47s/it]\n",
      "100%|██████████| 3/3 [00:01<00:00,  2.01it/s]\n"
     ]
    },
    {
     "name": "stdout",
     "output_type": "stream",
     "text": [
      "Training Loss: 8.16785362788609\n",
      "Validation Loss: 8.022096951802572\n",
      "Epoch 61/100\n"
     ]
    },
    {
     "name": "stderr",
     "output_type": "stream",
     "text": [
      "100%|██████████| 7/7 [00:10<00:00,  1.50s/it]\n",
      "100%|██████████| 3/3 [00:01<00:00,  2.02it/s]\n"
     ]
    },
    {
     "name": "stdout",
     "output_type": "stream",
     "text": [
      "Training Loss: 8.124543871198382\n",
      "Validation Loss: 8.03216282526652\n",
      "Epoch 62/100\n"
     ]
    },
    {
     "name": "stderr",
     "output_type": "stream",
     "text": [
      "100%|██████████| 7/7 [00:10<00:00,  1.51s/it]\n",
      "100%|██████████| 3/3 [00:01<00:00,  2.02it/s]\n"
     ]
    },
    {
     "name": "stdout",
     "output_type": "stream",
     "text": [
      "Training Loss: 8.098198754446846\n",
      "Validation Loss: 8.05317497253418\n",
      "Epoch 63/100\n"
     ]
    },
    {
     "name": "stderr",
     "output_type": "stream",
     "text": [
      "100%|██████████| 7/7 [00:10<00:00,  1.50s/it]\n",
      "100%|██████████| 3/3 [00:01<00:00,  2.01it/s]\n"
     ]
    },
    {
     "name": "stdout",
     "output_type": "stream",
     "text": [
      "Training Loss: 8.09974207196917\n",
      "Validation Loss: 8.022131443023682\n",
      "Epoch 64/100\n"
     ]
    },
    {
     "name": "stderr",
     "output_type": "stream",
     "text": [
      "100%|██████████| 7/7 [00:10<00:00,  1.51s/it]\n",
      "100%|██████████| 3/3 [00:01<00:00,  2.00it/s]\n"
     ]
    },
    {
     "name": "stdout",
     "output_type": "stream",
     "text": [
      "Training Loss: 8.116012981959752\n",
      "Validation Loss: 8.003774960835775\n",
      "Epoch 65/100\n"
     ]
    },
    {
     "name": "stderr",
     "output_type": "stream",
     "text": [
      "100%|██████████| 7/7 [00:10<00:00,  1.48s/it]\n",
      "100%|██████████| 3/3 [00:01<00:00,  1.97it/s]\n"
     ]
    },
    {
     "name": "stdout",
     "output_type": "stream",
     "text": [
      "Training Loss: 8.1446350642613\n",
      "Validation Loss: 8.040936787923178\n",
      "Epoch 66/100\n"
     ]
    },
    {
     "name": "stderr",
     "output_type": "stream",
     "text": [
      "100%|██████████| 7/7 [00:10<00:00,  1.50s/it]\n",
      "100%|██████████| 3/3 [00:01<00:00,  2.03it/s]\n"
     ]
    },
    {
     "name": "stdout",
     "output_type": "stream",
     "text": [
      "Training Loss: 8.130499839782715\n",
      "Validation Loss: 8.011506080627441\n",
      "Epoch 67/100\n"
     ]
    },
    {
     "name": "stderr",
     "output_type": "stream",
     "text": [
      "100%|██████████| 7/7 [00:10<00:00,  1.51s/it]\n",
      "100%|██████████| 3/3 [00:01<00:00,  2.01it/s]\n"
     ]
    },
    {
     "name": "stdout",
     "output_type": "stream",
     "text": [
      "Training Loss: 8.112061636788505\n",
      "Validation Loss: 8.018289566040039\n",
      "Epoch 68/100\n"
     ]
    },
    {
     "name": "stderr",
     "output_type": "stream",
     "text": [
      "100%|██████████| 7/7 [00:10<00:00,  1.47s/it]\n",
      "100%|██████████| 3/3 [00:01<00:00,  1.95it/s]\n"
     ]
    },
    {
     "name": "stdout",
     "output_type": "stream",
     "text": [
      "Training Loss: 8.125497681753975\n",
      "Validation Loss: 8.030557791392008\n",
      "Epoch 69/100\n"
     ]
    },
    {
     "name": "stderr",
     "output_type": "stream",
     "text": [
      "100%|██████████| 7/7 [00:10<00:00,  1.52s/it]\n",
      "100%|██████████| 3/3 [00:01<00:00,  1.98it/s]\n"
     ]
    },
    {
     "name": "stdout",
     "output_type": "stream",
     "text": [
      "Training Loss: 8.153182574680873\n",
      "Validation Loss: 7.990766843159993\n",
      "Epoch 70/100\n"
     ]
    },
    {
     "name": "stderr",
     "output_type": "stream",
     "text": [
      "100%|██████████| 7/7 [00:10<00:00,  1.50s/it]\n",
      "100%|██████████| 3/3 [00:01<00:00,  1.98it/s]\n"
     ]
    },
    {
     "name": "stdout",
     "output_type": "stream",
     "text": [
      "Training Loss: 8.115578923906599\n",
      "Validation Loss: 8.047839482625326\n",
      "Epoch 71/100\n"
     ]
    },
    {
     "name": "stderr",
     "output_type": "stream",
     "text": [
      "100%|██████████| 7/7 [00:10<00:00,  1.49s/it]\n",
      "100%|██████████| 3/3 [00:01<00:00,  2.00it/s]\n"
     ]
    },
    {
     "name": "stdout",
     "output_type": "stream",
     "text": [
      "Training Loss: 8.104433059692383\n",
      "Validation Loss: 8.003006140391031\n",
      "Epoch 72/100\n"
     ]
    },
    {
     "name": "stderr",
     "output_type": "stream",
     "text": [
      "100%|██████████| 7/7 [00:10<00:00,  1.50s/it]\n",
      "100%|██████████| 3/3 [00:01<00:00,  1.99it/s]\n"
     ]
    },
    {
     "name": "stdout",
     "output_type": "stream",
     "text": [
      "Training Loss: 8.110148906707764\n",
      "Validation Loss: 8.033310572306315\n",
      "Epoch 73/100\n"
     ]
    },
    {
     "name": "stderr",
     "output_type": "stream",
     "text": [
      "100%|██████████| 7/7 [00:10<00:00,  1.50s/it]\n",
      "100%|██████████| 3/3 [00:01<00:00,  2.01it/s]\n"
     ]
    },
    {
     "name": "stdout",
     "output_type": "stream",
     "text": [
      "Training Loss: 8.15974508013044\n",
      "Validation Loss: 8.018149058024088\n",
      "Epoch 74/100\n"
     ]
    },
    {
     "name": "stderr",
     "output_type": "stream",
     "text": [
      "100%|██████████| 7/7 [00:10<00:00,  1.51s/it]\n",
      "100%|██████████| 3/3 [00:01<00:00,  1.98it/s]\n"
     ]
    },
    {
     "name": "stdout",
     "output_type": "stream",
     "text": [
      "Training Loss: 8.135414668491908\n",
      "Validation Loss: 8.043712615966797\n",
      "Epoch 75/100\n"
     ]
    },
    {
     "name": "stderr",
     "output_type": "stream",
     "text": [
      "100%|██████████| 7/7 [00:10<00:00,  1.50s/it]\n",
      "100%|██████████| 3/3 [00:01<00:00,  1.98it/s]\n"
     ]
    },
    {
     "name": "stdout",
     "output_type": "stream",
     "text": [
      "Training Loss: 8.12472929273333\n",
      "Validation Loss: 8.047852357228598\n",
      "Epoch 76/100\n"
     ]
    },
    {
     "name": "stderr",
     "output_type": "stream",
     "text": [
      "100%|██████████| 7/7 [00:10<00:00,  1.51s/it]\n",
      "100%|██████████| 3/3 [00:01<00:00,  2.01it/s]\n"
     ]
    },
    {
     "name": "stdout",
     "output_type": "stream",
     "text": [
      "Training Loss: 8.122689110892159\n",
      "Validation Loss: 8.033167044321695\n",
      "Epoch 77/100\n"
     ]
    },
    {
     "name": "stderr",
     "output_type": "stream",
     "text": [
      "100%|██████████| 7/7 [00:10<00:00,  1.48s/it]\n",
      "100%|██████████| 3/3 [00:01<00:00,  1.92it/s]\n"
     ]
    },
    {
     "name": "stdout",
     "output_type": "stream",
     "text": [
      "Training Loss: 8.119219779968262\n",
      "Validation Loss: 8.053403854370117\n",
      "Epoch 78/100\n"
     ]
    },
    {
     "name": "stderr",
     "output_type": "stream",
     "text": [
      "100%|██████████| 7/7 [00:10<00:00,  1.50s/it]\n",
      "100%|██████████| 3/3 [00:01<00:00,  1.94it/s]\n"
     ]
    },
    {
     "name": "stdout",
     "output_type": "stream",
     "text": [
      "Training Loss: 8.127356801714216\n",
      "Validation Loss: 8.034220695495605\n",
      "Epoch 79/100\n"
     ]
    },
    {
     "name": "stderr",
     "output_type": "stream",
     "text": [
      "100%|██████████| 7/7 [00:10<00:00,  1.51s/it]\n",
      "100%|██████████| 3/3 [00:01<00:00,  1.99it/s]\n"
     ]
    },
    {
     "name": "stdout",
     "output_type": "stream",
     "text": [
      "Training Loss: 8.1097811290196\n",
      "Validation Loss: 8.039814790089926\n",
      "Epoch 80/100\n"
     ]
    },
    {
     "name": "stderr",
     "output_type": "stream",
     "text": [
      "100%|██████████| 7/7 [00:10<00:00,  1.53s/it]\n",
      "100%|██████████| 3/3 [00:01<00:00,  1.96it/s]\n"
     ]
    },
    {
     "name": "stdout",
     "output_type": "stream",
     "text": [
      "Training Loss: 8.108752386910576\n",
      "Validation Loss: 7.973586718241374\n",
      "Epoch 81/100\n"
     ]
    },
    {
     "name": "stderr",
     "output_type": "stream",
     "text": [
      "100%|██████████| 7/7 [00:10<00:00,  1.51s/it]\n",
      "100%|██████████| 3/3 [00:01<00:00,  1.92it/s]\n"
     ]
    },
    {
     "name": "stdout",
     "output_type": "stream",
     "text": [
      "Training Loss: 8.124172619410924\n",
      "Validation Loss: 7.993548393249512\n",
      "Epoch 82/100\n"
     ]
    },
    {
     "name": "stderr",
     "output_type": "stream",
     "text": [
      "100%|██████████| 7/7 [00:10<00:00,  1.52s/it]\n",
      "100%|██████████| 3/3 [00:01<00:00,  1.97it/s]\n"
     ]
    },
    {
     "name": "stdout",
     "output_type": "stream",
     "text": [
      "Training Loss: 8.114903994968959\n",
      "Validation Loss: 8.041435241699219\n",
      "Epoch 83/100\n"
     ]
    },
    {
     "name": "stderr",
     "output_type": "stream",
     "text": [
      "100%|██████████| 7/7 [00:10<00:00,  1.51s/it]\n",
      "100%|██████████| 3/3 [00:01<00:00,  2.03it/s]\n"
     ]
    },
    {
     "name": "stdout",
     "output_type": "stream",
     "text": [
      "Training Loss: 8.138157844543457\n",
      "Validation Loss: 8.03636360168457\n",
      "Epoch 84/100\n"
     ]
    },
    {
     "name": "stderr",
     "output_type": "stream",
     "text": [
      "100%|██████████| 7/7 [00:10<00:00,  1.50s/it]\n",
      "100%|██████████| 3/3 [00:01<00:00,  2.02it/s]\n"
     ]
    },
    {
     "name": "stdout",
     "output_type": "stream",
     "text": [
      "Training Loss: 8.103838103158134\n",
      "Validation Loss: 8.021412054697672\n",
      "Epoch 85/100\n"
     ]
    },
    {
     "name": "stderr",
     "output_type": "stream",
     "text": [
      "100%|██████████| 7/7 [00:10<00:00,  1.47s/it]\n",
      "100%|██████████| 3/3 [00:01<00:00,  1.96it/s]\n"
     ]
    },
    {
     "name": "stdout",
     "output_type": "stream",
     "text": [
      "Training Loss: 8.122883660452706\n",
      "Validation Loss: 8.050273259480795\n",
      "Epoch 86/100\n"
     ]
    },
    {
     "name": "stderr",
     "output_type": "stream",
     "text": [
      "100%|██████████| 7/7 [00:10<00:00,  1.51s/it]\n",
      "100%|██████████| 3/3 [00:01<00:00,  2.01it/s]\n"
     ]
    },
    {
     "name": "stdout",
     "output_type": "stream",
     "text": [
      "Training Loss: 8.10594013759068\n",
      "Validation Loss: 7.988450527191162\n",
      "Epoch 87/100\n"
     ]
    },
    {
     "name": "stderr",
     "output_type": "stream",
     "text": [
      "100%|██████████| 7/7 [00:10<00:00,  1.51s/it]\n",
      "100%|██████████| 3/3 [00:01<00:00,  1.92it/s]\n"
     ]
    },
    {
     "name": "stdout",
     "output_type": "stream",
     "text": [
      "Training Loss: 8.12709195273263\n",
      "Validation Loss: 8.019120216369629\n",
      "Epoch 88/100\n"
     ]
    },
    {
     "name": "stderr",
     "output_type": "stream",
     "text": [
      "100%|██████████| 7/7 [00:10<00:00,  1.50s/it]\n",
      "100%|██████████| 3/3 [00:01<00:00,  1.98it/s]\n"
     ]
    },
    {
     "name": "stdout",
     "output_type": "stream",
     "text": [
      "Training Loss: 8.130668231419154\n",
      "Validation Loss: 8.017757256825766\n",
      "Epoch 89/100\n"
     ]
    },
    {
     "name": "stderr",
     "output_type": "stream",
     "text": [
      "100%|██████████| 7/7 [00:10<00:00,  1.49s/it]\n",
      "100%|██████████| 3/3 [00:01<00:00,  1.99it/s]\n"
     ]
    },
    {
     "name": "stdout",
     "output_type": "stream",
     "text": [
      "Training Loss: 8.098921775817871\n",
      "Validation Loss: 8.0457231203715\n",
      "Epoch 90/100\n"
     ]
    },
    {
     "name": "stderr",
     "output_type": "stream",
     "text": [
      "100%|██████████| 7/7 [00:10<00:00,  1.50s/it]\n",
      "100%|██████████| 3/3 [00:01<00:00,  1.99it/s]\n"
     ]
    },
    {
     "name": "stdout",
     "output_type": "stream",
     "text": [
      "Training Loss: 8.093846729823522\n",
      "Validation Loss: 8.016801357269287\n",
      "Epoch 91/100\n"
     ]
    },
    {
     "name": "stderr",
     "output_type": "stream",
     "text": [
      "100%|██████████| 7/7 [00:10<00:00,  1.50s/it]\n",
      "100%|██████████| 3/3 [00:01<00:00,  1.97it/s]\n"
     ]
    },
    {
     "name": "stdout",
     "output_type": "stream",
     "text": [
      "Training Loss: 8.096660000937325\n",
      "Validation Loss: 8.053596496582031\n",
      "Epoch 92/100\n"
     ]
    },
    {
     "name": "stderr",
     "output_type": "stream",
     "text": [
      "100%|██████████| 7/7 [00:10<00:00,  1.47s/it]\n",
      "100%|██████████| 3/3 [00:01<00:00,  1.96it/s]\n"
     ]
    },
    {
     "name": "stdout",
     "output_type": "stream",
     "text": [
      "Training Loss: 8.09245777130127\n",
      "Validation Loss: 8.01118246714274\n",
      "Epoch 93/100\n"
     ]
    },
    {
     "name": "stderr",
     "output_type": "stream",
     "text": [
      "100%|██████████| 7/7 [00:10<00:00,  1.50s/it]\n",
      "100%|██████████| 3/3 [00:01<00:00,  2.01it/s]\n"
     ]
    },
    {
     "name": "stdout",
     "output_type": "stream",
     "text": [
      "Training Loss: 8.124136516026088\n",
      "Validation Loss: 8.015090147654215\n",
      "Epoch 94/100\n"
     ]
    },
    {
     "name": "stderr",
     "output_type": "stream",
     "text": [
      "100%|██████████| 7/7 [00:10<00:00,  1.51s/it]\n",
      "100%|██████████| 3/3 [00:01<00:00,  2.02it/s]\n"
     ]
    },
    {
     "name": "stdout",
     "output_type": "stream",
     "text": [
      "Training Loss: 8.129279477255684\n",
      "Validation Loss: 8.022667407989502\n",
      "Epoch 95/100\n"
     ]
    },
    {
     "name": "stderr",
     "output_type": "stream",
     "text": [
      "100%|██████████| 7/7 [00:10<00:00,  1.46s/it]\n",
      "100%|██████████| 3/3 [00:01<00:00,  2.02it/s]\n"
     ]
    },
    {
     "name": "stdout",
     "output_type": "stream",
     "text": [
      "Training Loss: 8.122782026018415\n",
      "Validation Loss: 8.032374699910482\n",
      "Epoch 96/100\n"
     ]
    },
    {
     "name": "stderr",
     "output_type": "stream",
     "text": [
      "100%|██████████| 7/7 [00:10<00:00,  1.53s/it]\n",
      "100%|██████████| 3/3 [00:01<00:00,  1.87it/s]\n"
     ]
    },
    {
     "name": "stdout",
     "output_type": "stream",
     "text": [
      "Training Loss: 8.146465165274483\n",
      "Validation Loss: 8.029797712961832\n",
      "Epoch 97/100\n"
     ]
    },
    {
     "name": "stderr",
     "output_type": "stream",
     "text": [
      "100%|██████████| 7/7 [00:10<00:00,  1.52s/it]\n",
      "100%|██████████| 3/3 [00:01<00:00,  1.93it/s]\n"
     ]
    },
    {
     "name": "stdout",
     "output_type": "stream",
     "text": [
      "Training Loss: 8.101810591561454\n",
      "Validation Loss: 8.019151528676352\n",
      "Epoch 98/100\n"
     ]
    },
    {
     "name": "stderr",
     "output_type": "stream",
     "text": [
      "100%|██████████| 7/7 [00:10<00:00,  1.53s/it]\n",
      "100%|██████████| 3/3 [00:01<00:00,  1.94it/s]\n"
     ]
    },
    {
     "name": "stdout",
     "output_type": "stream",
     "text": [
      "Training Loss: 8.118828228541783\n",
      "Validation Loss: 8.030428886413574\n",
      "Epoch 99/100\n"
     ]
    },
    {
     "name": "stderr",
     "output_type": "stream",
     "text": [
      "100%|██████████| 7/7 [00:10<00:00,  1.53s/it]\n",
      "100%|██████████| 3/3 [00:01<00:00,  1.94it/s]\n"
     ]
    },
    {
     "name": "stdout",
     "output_type": "stream",
     "text": [
      "Training Loss: 8.114758627755302\n",
      "Validation Loss: 7.999010403951009\n",
      "Epoch 100/100\n"
     ]
    },
    {
     "name": "stderr",
     "output_type": "stream",
     "text": [
      "100%|██████████| 7/7 [00:10<00:00,  1.50s/it]\n",
      "100%|██████████| 3/3 [00:01<00:00,  1.98it/s]"
     ]
    },
    {
     "name": "stdout",
     "output_type": "stream",
     "text": [
      "Training Loss: 8.130777086530413\n",
      "Validation Loss: 8.039572556813559\n",
      "Finished Training\n"
     ]
    },
    {
     "name": "stderr",
     "output_type": "stream",
     "text": [
      "\n"
     ]
    }
   ],
   "source": [
    "# Define some hyperparameters\n",
    "num_epochs = 100\n",
    "lr = 0.001\n",
    "\n",
    "# Create a directory with the current timestamp\n",
    "now = datetime.datetime.now()\n",
    "timestamp = now.strftime('%Y-%m-%d_%H-%M-%S')\n",
    "save_dir = os.path.join(\"saved_models\", timestamp)\n",
    "os.makedirs(save_dir, exist_ok=True)\n",
    "\n",
    "# select parameters to finetune\n",
    "params = [p for p in model.parameters() if p.requires_grad]\n",
    "\n",
    "# Define the optimizer\n",
    "# optimizer = optim.Adam(params, lr=lr)\n",
    "optimizer = torch.optim.SGD(params, lr=0.001, momentum=0.9, weight_decay=0.0005)\n",
    "lr_scheduler = torch.optim.lr_scheduler.StepLR(optimizer, step_size=5, gamma=0.3)\n",
    "\n",
    "best_loss = float('inf')  # Initialize with a high value\n",
    "\n",
    "# Training loop\n",
    "for epoch in range(num_epochs):\n",
    "    print(f\"Epoch {epoch+1}/{num_epochs}\")\n",
    "    \n",
    "    model.train()  # Set model to training mode\n",
    "    \n",
    "    running_loss = 0.0\n",
    "    for images, targets in tqdm(train_dataloader):\n",
    "        \n",
    "        # Zero the parameter gradients\n",
    "        optimizer.zero_grad()\n",
    "        \n",
    "        # Forward pass\n",
    "        loss_dict = model(images, targets)\n",
    "        \n",
    "        # Compute total loss\n",
    "        losses = sum(loss for loss in loss_dict.values())\n",
    "        \n",
    "        # Backward pass and optimize\n",
    "        losses.backward()\n",
    "        optimizer.step()\n",
    "        lr_scheduler.step()\n",
    "        \n",
    "        # Print statistics\n",
    "        running_loss += losses.item()\n",
    "\n",
    "    # Validation phase\n",
    "    val_loss = 0.0\n",
    "    \n",
    "    with torch.no_grad():\n",
    "        for images, targets in tqdm(test_dataloader):\n",
    "\n",
    "            # Forward pass\n",
    "            loss_dict = model(images, targets)\n",
    "            \n",
    "            # Compute total loss\n",
    "            losses = sum(loss for loss in loss_dict.values())\n",
    "\n",
    "            # Accumulate validation loss\n",
    "            val_loss += losses.item()\n",
    "            \n",
    "\n",
    "    # Compute average loss for the epoch\n",
    "    avg_train_loss = running_loss / len(train_dataloader)\n",
    "    print(f\"Training Loss: {avg_train_loss}\")\n",
    "\n",
    "    # Compute average validation loss for the epoch\n",
    "    avg_val_loss = val_loss / len(test_dataloader)\n",
    "    print(f\"Validation Loss: {avg_val_loss}\")\n",
    "\n",
    "    # Save the model if the validation loss improved\n",
    "    if avg_val_loss < best_loss:\n",
    "        best_loss = avg_val_loss\n",
    "        print(f\"Improved validation loss at epoch {epoch+1}. Saving model...\")\n",
    "        torch.save(model.state_dict(), os.path.join(save_dir, f\"model_best_epoch_{epoch+1}.pth\"))\n",
    "    \n",
    "    # empty cuda cache\n",
    "    torch.cuda.empty_cache()\n",
    "\n",
    "print('Finished Training')\n"
   ]
  },
  {
   "cell_type": "markdown",
   "metadata": {},
   "source": [
    "# Inference\n",
    "Here the code to test the model on the test set is provided."
   ]
  },
  {
   "cell_type": "code",
   "execution_count": 74,
   "metadata": {},
   "outputs": [
    {
     "name": "stdout",
     "output_type": "stream",
     "text": [
      "[{'boxes': tensor([[ 863.5776,  575.1730, 1217.7803,  929.3940],\n",
      "        [ 669.6257,  701.4025, 1125.2412,  972.7772],\n",
      "        [ 854.1069,  517.0571, 1309.3895,  788.2991],\n",
      "        [1038.9910,  517.0142, 1494.3226,  788.3923],\n",
      "        [ 946.5949,  563.1988, 1401.9674,  834.5712],\n",
      "        [ 771.1414,  482.6119, 1125.2173,  837.3062],\n",
      "        [ 946.6790,  701.6268, 1402.0950,  973.0313],\n",
      "        [1039.0670,  609.3551, 1494.1160,  880.7095],\n",
      "        [1131.2312,  563.3235, 1586.6489,  834.6243],\n",
      "        [ 762.1322,  747.6528, 1217.6199, 1019.1051],\n",
      "        [ 485.7565,  701.5983,  941.1473,  973.0284],\n",
      "        [1315.5406,  101.6929, 1770.7335,  373.0829],\n",
      "        [ 531.8687,  147.9464,  987.4922,  419.3553],\n",
      "        [1223.5261,  517.1442, 1678.5498,  788.5698],\n",
      "        [1131.4583,  655.5864, 1586.3635,  926.8463],\n",
      "        [ 577.8598,  655.0801, 1033.0652,  926.7725],\n",
      "        [1223.4093,  609.5293, 1678.5953,  880.9971],\n",
      "        [1315.7742,  563.3502, 1770.9005,  834.6416],\n",
      "        [ 439.7399,  101.9176,  894.7775,  373.2766],\n",
      "        [1370.4249,  390.7104, 1724.6825,  745.0543],\n",
      "        [1315.3492,  193.9355, 1770.7499,  465.6331],\n",
      "        [ 854.6597,  424.8477, 1309.9955,  696.2854],\n",
      "        [1131.0967,  101.6746, 1586.5883,  373.4918],\n",
      "        [ 301.6728,  147.9012,  756.5230,  419.2973],\n",
      "        [ 670.3932,  101.6631, 1125.4728,  373.2464],\n",
      "        [1039.0775,  747.8111, 1494.3947, 1019.3942],\n",
      "        [1316.0012,  655.6696, 1771.0754,  927.1789],\n",
      "        [1223.6405,  701.7474, 1678.5530,  973.1291],\n",
      "        [ 301.4219,  701.7337,  756.1684,  972.9532],\n",
      "        [ 264.4866,  160.2017,  618.6344,  514.5023],\n",
      "        [ 393.6481,  656.0662,  848.1524,  927.0413],\n",
      "        [ 439.4330,  194.2328,  894.9890,  466.0252],\n",
      "        [ 163.6394,  101.9004,  618.3481,  373.1505],\n",
      "        [1039.3162,  425.5685, 1493.3074,  696.4344],\n",
      "        [ 900.7375,  101.6964, 1357.4869,  374.0890],\n",
      "        [ 218.0275,  390.6478,  572.3058,  745.0803],\n",
      "        [ 163.5674,  286.4428,  618.0834,  557.8428],\n",
      "        [1315.4252,  286.2047, 1770.4896,  557.8757],\n",
      "        [ 724.8557,  159.6775, 1079.4344,  514.9126],\n",
      "        [ 218.1977,  621.5111,  572.5278,  975.8424],\n",
      "        [ 209.5954,  747.9662,  663.8481, 1019.2242],\n",
      "        [ 808.7419,  468.8192, 1258.8103, 1080.0000],\n",
      "        [ 531.7557,  240.3452,  988.5396,  512.8749],\n",
      "        [1278.7571,  297.7865, 1633.0431,  653.0397],\n",
      "        [1362.3793,  747.8423, 1817.0244, 1019.2959],\n",
      "        [ 126.1004,  344.6241,  480.3270,  699.2203],\n",
      "        [1408.6481,  240.6916, 1863.5114,  512.0659],\n",
      "        [ 126.2149,  483.1612,  480.3943,  837.7283],\n",
      "        [ 993.1863,  469.6145, 1443.2521, 1080.0000],\n",
      "        [ 264.2278,  528.8879,  618.6414,  883.8252],\n",
      "        [ 771.2070,  297.3076, 1125.3555,  653.2454],\n",
      "        [1232.1632,  160.4874, 1586.3204,  514.7302],\n",
      "        [1408.6565,  333.0431, 1863.3253,  604.4043],\n",
      "        [ 448.9805,  713.8536,  803.2198, 1068.6547],\n",
      "        [ 623.2852,  793.1493, 1079.9885, 1065.0544],\n",
      "        [1408.9885,  517.6617, 1863.5050,  788.9019],\n",
      "        [1359.4150,  284.0045, 1814.4493, 1080.0000],\n",
      "        [ 600.0717,  671.2562, 1512.5801, 1080.0000],\n",
      "        [ 853.7697,  793.2915, 1310.7357, 1065.4004],\n",
      "        [1309.9222,  118.2691, 1920.0000,  648.1105],\n",
      "        [ 231.5708,  671.2224, 1143.2454, 1080.0000],\n",
      "        [1195.8241,  561.6572, 1632.7976, 1080.0000],\n",
      "        [1544.9893,  242.5774, 1920.0000,  965.0367],\n",
      "        [1149.4713,  483.4662, 1920.0000, 1022.9393],\n",
      "        [ 842.6880,  776.3466, 1782.3192, 1080.0000],\n",
      "        [1509.6241,  621.9888, 1863.9438,  976.5026],\n",
      "        [ 483.6308,  565.3934,  934.2998,  832.7834],\n",
      "        [1130.3827,  378.9568, 1583.0247,  649.3196],\n",
      "        [ 310.6460,  298.3906,  664.8693,  653.9064],\n",
      "        [ 440.1146,  286.7314,  896.2900,  558.8282],\n",
      "        [1130.9047,  793.5263, 1587.1636, 1065.4691],\n",
      "        [ 484.4713,  841.5728,  942.0612, 1080.0000],\n",
      "        [ 163.9935,  469.6345,  613.3483, 1080.0000],\n",
      "        [ 623.4841,  286.5500, 1079.5649,  558.7438],\n",
      "        [ 764.5512,   55.9220, 1218.0356,  327.3737],\n",
      "        [1455.4982,  149.1264, 1911.0614,  420.1657],\n",
      "        [ 579.9637,   56.0219, 1033.4136,  327.2649],\n",
      "        [ 126.3529,  713.7991,  480.6881, 1068.7329],\n",
      "        [ 991.7147,  841.9312, 1449.3217, 1080.0000],\n",
      "        [ 634.2486,  526.8660,  987.7254,  883.3221],\n",
      "        [ 621.2357,  377.9073, 1075.9651, 1080.0000],\n",
      "        [ 861.6108,  209.2728, 1217.1758,  562.0880],\n",
      "        [ 349.8468,   56.0691,  803.0205,  327.4024],\n",
      "        [ 855.6354,  334.9544, 1309.7228,  605.6989],\n",
      "        [ 300.1185,  841.8234,  757.3096, 1080.0000],\n",
      "        [ 436.7561,  378.7121,  891.8382, 1080.0000],\n",
      "        [1456.0535,  426.1892, 1910.9541,  697.1528],\n",
      "        [1148.6396,  298.2755, 1920.0000,  838.7841],\n",
      "        [ 532.3247,  332.5229,  986.8861,  604.8127],\n",
      "        [1269.9602,    0.0000, 1723.0072,  916.5484],\n",
      "        [1314.7771,  842.0087, 1771.6388, 1080.0000],\n",
      "        [1143.9056,  252.4567, 1498.1058,  605.4015],\n",
      "        [ 680.0534,  388.6482, 1034.3337,  744.9619],\n",
      "        [  40.9576,  236.1171,  595.8681,  938.2584],\n",
      "        [ 899.2429,  195.2049, 1353.6993,  468.3091],\n",
      "        [ 349.1958,  518.3761,  803.7969,  788.8207],\n",
      "        [ 995.0908,    0.0000, 1444.8958,  910.5934],\n",
      "        [  33.7825,  149.4434,  482.3889,  420.5683],\n",
      "        [  33.7540,  241.7182,  482.3804,  512.8141],\n",
      "        [  33.6325,  611.0395,  482.2409,  881.9608]], device='cuda:0'), 'labels': tensor([1, 1, 1, 1, 1, 1, 1, 1, 1, 1, 1, 1, 1, 1, 1, 1, 1, 1, 1, 1, 1, 1, 1, 1,\n",
      "        1, 1, 1, 1, 1, 1, 1, 1, 1, 1, 1, 1, 1, 1, 1, 1, 1, 1, 1, 1, 1, 1, 1, 1,\n",
      "        1, 1, 1, 1, 1, 1, 1, 1, 1, 1, 1, 1, 1, 1, 1, 1, 1, 1, 1, 1, 1, 1, 1, 1,\n",
      "        1, 1, 1, 1, 1, 1, 1, 1, 1, 1, 1, 1, 1, 1, 1, 1, 1, 1, 1, 1, 1, 1, 1, 1,\n",
      "        1, 1, 1, 1], device='cuda:0'), 'scores': tensor([0.0653, 0.0653, 0.0653, 0.0650, 0.0649, 0.0649, 0.0648, 0.0648, 0.0647,\n",
      "        0.0647, 0.0647, 0.0646, 0.0645, 0.0645, 0.0645, 0.0644, 0.0642, 0.0642,\n",
      "        0.0641, 0.0641, 0.0640, 0.0640, 0.0640, 0.0639, 0.0639, 0.0639, 0.0639,\n",
      "        0.0639, 0.0638, 0.0638, 0.0638, 0.0637, 0.0635, 0.0635, 0.0635, 0.0634,\n",
      "        0.0633, 0.0633, 0.0632, 0.0632, 0.0631, 0.0631, 0.0630, 0.0630, 0.0629,\n",
      "        0.0627, 0.0626, 0.0626, 0.0626, 0.0625, 0.0625, 0.0624, 0.0623, 0.0623,\n",
      "        0.0623, 0.0622, 0.0622, 0.0622, 0.0621, 0.0618, 0.0618, 0.0618, 0.0615,\n",
      "        0.0615, 0.0615, 0.0615, 0.0615, 0.0612, 0.0611, 0.0611, 0.0610, 0.0610,\n",
      "        0.0610, 0.0609, 0.0609, 0.0609, 0.0608, 0.0608, 0.0608, 0.0607, 0.0606,\n",
      "        0.0604, 0.0604, 0.0603, 0.0603, 0.0603, 0.0601, 0.0601, 0.0600, 0.0599,\n",
      "        0.0599, 0.0598, 0.0595, 0.0594, 0.0592, 0.0591, 0.0590, 0.0590, 0.0589,\n",
      "        0.0588], device='cuda:0'), 'keypoints': tensor([[[1.1724e+03, 6.1909e+02, 1.0000e+00],\n",
      "         [8.9597e+02, 8.7252e+02, 1.0000e+00]],\n",
      "\n",
      "        [[1.0670e+03, 7.3514e+02, 1.0000e+00],\n",
      "         [7.1059e+02, 9.2898e+02, 1.0000e+00]],\n",
      "\n",
      "        [[1.2512e+03, 5.5078e+02, 1.0000e+00],\n",
      "         [8.9504e+02, 7.4453e+02, 1.0000e+00]],\n",
      "\n",
      "        [[1.4361e+03, 5.5076e+02, 1.0000e+00],\n",
      "         [1.0799e+03, 7.4460e+02, 1.0000e+00]],\n",
      "\n",
      "        [[1.3438e+03, 5.9694e+02, 1.0000e+00],\n",
      "         [9.8754e+02, 7.9078e+02, 1.0000e+00]],\n",
      "\n",
      "        [[1.0799e+03, 5.2659e+02, 1.0000e+00],\n",
      "         [8.0353e+02, 7.8035e+02, 1.0000e+00]],\n",
      "\n",
      "        [[1.3439e+03, 7.3537e+02, 1.0000e+00],\n",
      "         [9.8762e+02, 9.2923e+02, 1.0000e+00]],\n",
      "\n",
      "        [[1.4372e+03, 6.4309e+02, 1.0000e+00],\n",
      "         [1.0801e+03, 8.3692e+02, 1.0000e+00]],\n",
      "\n",
      "        [[1.5285e+03, 5.9706e+02, 1.0000e+00],\n",
      "         [1.1722e+03, 7.9084e+02, 1.0000e+00]],\n",
      "\n",
      "        [[1.1594e+03, 7.8140e+02, 1.0000e+00],\n",
      "         [8.0308e+02, 9.7530e+02, 1.0000e+00]],\n",
      "\n",
      "        [[8.8297e+02, 7.3535e+02, 1.0000e+00],\n",
      "         [5.2670e+02, 9.2923e+02, 1.0000e+00]],\n",
      "\n",
      "        [[1.7126e+03, 1.3544e+02, 1.0000e+00],\n",
      "         [1.3565e+03, 3.2929e+02, 1.0000e+00]],\n",
      "\n",
      "        [[9.2928e+02, 1.8169e+02, 1.0000e+00],\n",
      "         [5.7283e+02, 3.7556e+02, 1.0000e+00]],\n",
      "\n",
      "        [[1.6217e+03, 5.5089e+02, 1.0000e+00],\n",
      "         [1.2646e+03, 7.4477e+02, 1.0000e+00]],\n",
      "\n",
      "        [[1.5295e+03, 6.8931e+02, 1.0000e+00],\n",
      "         [1.1725e+03, 8.8307e+02, 1.0000e+00]],\n",
      "\n",
      "        [[9.7491e+02, 6.8886e+02, 1.0000e+00],\n",
      "         [6.1879e+02, 8.8293e+02, 1.0000e+00]],\n",
      "\n",
      "        [[1.6204e+03, 6.4328e+02, 1.0000e+00],\n",
      "         [1.2643e+03, 8.3719e+02, 1.0000e+00]],\n",
      "\n",
      "        [[1.7140e+03, 5.9708e+02, 1.0000e+00],\n",
      "         [1.3568e+03, 7.9086e+02, 1.0000e+00]],\n",
      "\n",
      "        [[8.3790e+02, 1.3566e+02, 1.0000e+00],\n",
      "         [4.8078e+02, 3.2949e+02, 1.0000e+00]],\n",
      "\n",
      "        [[1.6793e+03, 4.3464e+02, 1.0000e+00],\n",
      "         [1.4028e+03, 6.8816e+02, 1.0000e+00]],\n",
      "\n",
      "        [[1.7126e+03, 2.2772e+02, 1.0000e+00],\n",
      "         [1.3563e+03, 4.2179e+02, 1.0000e+00]],\n",
      "\n",
      "        [[1.2518e+03, 4.5860e+02, 1.0000e+00],\n",
      "         [8.9560e+02, 6.5248e+02, 1.0000e+00]],\n",
      "\n",
      "        [[1.5284e+03, 1.3547e+02, 1.0000e+00],\n",
      "         [1.1720e+03, 3.2963e+02, 1.0000e+00]],\n",
      "\n",
      "        [[6.9967e+02, 1.8165e+02, 1.0000e+00],\n",
      "         [3.4270e+02, 3.7550e+02, 1.0000e+00]],\n",
      "\n",
      "        [[1.0686e+03, 1.3543e+02, 1.0000e+00],\n",
      "         [7.1144e+02, 3.2942e+02, 1.0000e+00]],\n",
      "\n",
      "        [[1.4362e+03, 7.8158e+02, 1.0000e+00],\n",
      "         [1.0800e+03, 9.7557e+02, 1.0000e+00]],\n",
      "\n",
      "        [[1.7142e+03, 6.8943e+02, 1.0000e+00],\n",
      "         [1.3570e+03, 8.8336e+02, 1.0000e+00]],\n",
      "\n",
      "        [[1.6217e+03, 7.3549e+02, 1.0000e+00],\n",
      "         [1.2647e+03, 9.2933e+02, 1.0000e+00]],\n",
      "\n",
      "        [[6.9933e+02, 7.3546e+02, 1.0000e+00],\n",
      "         [3.4244e+02, 9.2918e+02, 1.0000e+00]],\n",
      "\n",
      "        [[5.7329e+02, 2.0413e+02, 1.0000e+00],\n",
      "         [2.9688e+02, 4.5761e+02, 1.0000e+00]],\n",
      "\n",
      "        [[7.9134e+02, 6.8994e+02, 1.0000e+00],\n",
      "         [4.3464e+02, 8.8308e+02, 1.0000e+00]],\n",
      "\n",
      "        [[8.3679e+02, 2.2803e+02, 1.0000e+00],\n",
      "         [4.8039e+02, 4.2216e+02, 1.0000e+00]],\n",
      "\n",
      "        [[5.6151e+02, 1.3563e+02, 1.0000e+00],\n",
      "         [2.0465e+02, 3.2938e+02, 1.0000e+00]],\n",
      "\n",
      "        [[1.4366e+03, 4.5943e+02, 1.0000e+00],\n",
      "         [1.0803e+03, 6.5249e+02, 1.0000e+00]],\n",
      "\n",
      "        [[1.2993e+03, 1.3557e+02, 1.0000e+00],\n",
      "         [9.4167e+02, 3.3013e+02, 1.0000e+00]],\n",
      "\n",
      "        [[5.2694e+02, 4.3459e+02, 1.0000e+00],\n",
      "         [2.5043e+02, 6.8817e+02, 1.0000e+00]],\n",
      "\n",
      "        [[5.6127e+02, 3.2019e+02, 1.0000e+00],\n",
      "         [2.0456e+02, 5.1405e+02, 1.0000e+00]],\n",
      "\n",
      "        [[1.7136e+03, 3.1998e+02, 1.0000e+00],\n",
      "         [1.3565e+03, 5.1403e+02, 1.0000e+00]],\n",
      "\n",
      "        [[1.0342e+03, 2.0354e+02, 1.0000e+00],\n",
      "         [7.5716e+02, 4.5810e+02, 1.0000e+00]],\n",
      "\n",
      "        [[5.2734e+02, 6.6544e+02, 1.0000e+00],\n",
      "         [2.5047e+02, 9.1895e+02, 1.0000e+00]],\n",
      "\n",
      "        [[6.0707e+02, 7.8169e+02, 1.0000e+00],\n",
      "         [2.5056e+02, 9.7545e+02, 1.0000e+00]],\n",
      "\n",
      "        [[1.2020e+03, 5.4594e+02, 1.0000e+00],\n",
      "         [8.4972e+02, 9.8270e+02, 1.0000e+00]],\n",
      "\n",
      "        [[9.3036e+02, 2.7405e+02, 1.0000e+00],\n",
      "         [5.7269e+02, 4.6913e+02, 1.0000e+00]],\n",
      "\n",
      "        [[1.5877e+03, 3.4165e+02, 1.0000e+00],\n",
      "         [1.3112e+03, 5.9623e+02, 1.0000e+00]],\n",
      "\n",
      "        [[1.7602e+03, 7.8159e+02, 1.0000e+00],\n",
      "         [1.4034e+03, 9.7549e+02, 1.0000e+00]],\n",
      "\n",
      "        [[4.3497e+02, 3.8859e+02, 1.0000e+00],\n",
      "         [1.5850e+02, 6.4228e+02, 1.0000e+00]],\n",
      "\n",
      "        [[1.8067e+03, 2.7443e+02, 1.0000e+00],\n",
      "         [1.4497e+03, 4.6827e+02, 1.0000e+00]],\n",
      "\n",
      "        [[4.3504e+02, 5.2712e+02, 1.0000e+00],\n",
      "         [1.5861e+02, 7.8080e+02, 1.0000e+00]],\n",
      "\n",
      "        [[1.3865e+03, 5.4663e+02, 1.0000e+00],\n",
      "         [1.0342e+03, 9.8283e+02, 1.0000e+00]],\n",
      "\n",
      "        [[5.7344e+02, 5.7415e+02, 1.0000e+00],\n",
      "         [2.9651e+02, 8.2706e+02, 1.0000e+00]],\n",
      "\n",
      "        [[1.0800e+03, 3.4270e+02, 1.0000e+00],\n",
      "         [8.0360e+02, 5.9632e+02, 1.0000e+00]],\n",
      "\n",
      "        [[1.5410e+03, 2.0441e+02, 1.0000e+00],\n",
      "         [1.2646e+03, 4.5785e+02, 1.0000e+00]],\n",
      "\n",
      "        [[1.8065e+03, 3.6678e+02, 1.0000e+00],\n",
      "         [1.4497e+03, 5.6061e+02, 1.0000e+00]],\n",
      "\n",
      "        [[7.5786e+02, 7.5767e+02, 1.0000e+00],\n",
      "         [4.8138e+02, 1.0119e+03, 1.0000e+00]],\n",
      "\n",
      "        [[1.0218e+03, 8.2696e+02, 1.0000e+00],\n",
      "         [6.6422e+02, 1.0212e+03, 1.0000e+00]],\n",
      "\n",
      "        [[1.8067e+03, 5.5139e+02, 1.0000e+00],\n",
      "         [1.4500e+03, 7.4513e+02, 1.0000e+00]],\n",
      "\n",
      "        [[1.7576e+03, 3.8404e+02, 1.0000e+00],\n",
      "         [1.4005e+03, 9.5261e+02, 1.0000e+00]],\n",
      "\n",
      "        [[1.3967e+03, 7.2235e+02, 1.0000e+00],\n",
      "         [6.8139e+02, 1.0145e+03, 1.0000e+00]],\n",
      "\n",
      "        [[1.2525e+03, 8.2713e+02, 1.0000e+00],\n",
      "         [8.9472e+02, 1.0215e+03, 1.0000e+00]],\n",
      "\n",
      "        [[1.8430e+03, 1.8522e+02, 1.0000e+00],\n",
      "         [1.3653e+03, 5.6388e+02, 1.0000e+00]],\n",
      "\n",
      "        [[1.0273e+03, 7.2232e+02, 1.0000e+00],\n",
      "         [3.1294e+02, 1.0145e+03, 1.0000e+00]],\n",
      "\n",
      "        [[1.5775e+03, 6.2717e+02, 1.0000e+00],\n",
      "         [1.2354e+03, 9.9721e+02, 1.0000e+00]],\n",
      "\n",
      "        [[1.8719e+03, 3.3396e+02, 1.0000e+00],\n",
      "         [1.5788e+03, 8.4918e+02, 1.0000e+00]],\n",
      "\n",
      "        [[1.8228e+03, 5.5180e+02, 1.0000e+00],\n",
      "         [1.2193e+03, 9.3734e+02, 1.0000e+00]],\n",
      "\n",
      "        [[1.6636e+03, 8.1448e+02, 1.0000e+00],\n",
      "         [9.2687e+02, 1.0318e+03, 1.0000e+00]],\n",
      "\n",
      "        [[1.8186e+03, 6.6594e+02, 1.0000e+00],\n",
      "         [1.5420e+03, 9.1958e+02, 1.0000e+00]],\n",
      "\n",
      "        [[8.7743e+02, 5.9918e+02, 1.0000e+00],\n",
      "         [5.2467e+02, 7.9037e+02, 1.0000e+00]],\n",
      "\n",
      "        [[1.5263e+03, 4.1275e+02, 1.0000e+00],\n",
      "         [1.1713e+03, 6.0546e+02, 1.0000e+00]],\n",
      "\n",
      "        [[6.1951e+02, 3.4229e+02, 1.0000e+00],\n",
      "         [3.4304e+02, 5.9705e+02, 1.0000e+00]],\n",
      "\n",
      "        [[8.3801e+02, 3.2056e+02, 1.0000e+00],\n",
      "         [4.8113e+02, 5.1492e+02, 1.0000e+00]],\n",
      "\n",
      "        [[1.5289e+03, 8.2734e+02, 1.0000e+00],\n",
      "         [1.1719e+03, 1.0216e+03, 1.0000e+00]],\n",
      "\n",
      "        [[8.8378e+02, 8.7102e+02, 1.0000e+00],\n",
      "         [5.2548e+02, 1.0419e+03, 1.0000e+00]],\n",
      "\n",
      "        [[5.5646e+02, 5.4665e+02, 1.0000e+00],\n",
      "         [2.0504e+02, 9.8283e+02, 1.0000e+00]],\n",
      "\n",
      "        [[1.0213e+03, 3.2039e+02, 1.0000e+00],\n",
      "         [6.6449e+02, 5.1482e+02, 1.0000e+00]],\n",
      "\n",
      "        [[1.1612e+03, 8.9674e+01, 1.0000e+00],\n",
      "         [8.0558e+02, 2.8357e+02, 1.0000e+00]],\n",
      "\n",
      "        [[1.8529e+03, 1.8301e+02, 1.0000e+00],\n",
      "         [1.4965e+03, 3.7619e+02, 1.0000e+00]],\n",
      "\n",
      "        [[9.7655e+02, 8.9748e+01, 1.0000e+00],\n",
      "         [6.2099e+02, 2.8349e+02, 1.0000e+00]],\n",
      "\n",
      "        [[4.3550e+02, 7.5763e+02, 1.0000e+00],\n",
      "         [1.5863e+02, 1.0120e+03, 1.0000e+00]],\n",
      "\n",
      "        [[1.3910e+03, 8.7133e+02, 1.0000e+00],\n",
      "         [1.0327e+03, 1.0420e+03, 1.0000e+00]],\n",
      "\n",
      "        [[9.4246e+02, 5.7214e+02, 1.0000e+00],\n",
      "         [6.6514e+02, 6.2245e+02, 1.0000e+00]],\n",
      "\n",
      "        [[1.0191e+03, 4.6657e+02, 1.0000e+00],\n",
      "         [6.6225e+02, 9.6827e+02, 1.0000e+00]],\n",
      "\n",
      "        [[1.1718e+03, 2.5319e+02, 1.0000e+00],\n",
      "         [8.9400e+02, 5.0521e+02, 1.0000e+00]],\n",
      "\n",
      "        [[7.4619e+02, 8.9806e+01, 1.0000e+00],\n",
      "         [3.9085e+02, 2.8362e+02, 1.0000e+00]],\n",
      "\n",
      "        [[1.2530e+03, 3.6880e+02, 1.0000e+00],\n",
      "         [8.9659e+02, 5.6177e+02, 1.0000e+00]],\n",
      "\n",
      "        [[6.9908e+02, 8.7124e+02, 1.0000e+00],\n",
      "         [3.4109e+02, 1.0420e+03, 1.0000e+00]],\n",
      "\n",
      "        [[8.3495e+02, 4.6727e+02, 1.0000e+00],\n",
      "         [4.7780e+02, 9.6840e+02, 1.0000e+00]],\n",
      "\n",
      "        [[1.8541e+03, 4.6006e+02, 1.0000e+00],\n",
      "         [1.4971e+03, 6.5319e+02, 1.0000e+00]],\n",
      "\n",
      "        [[1.8229e+03, 3.6530e+02, 1.0000e+00],\n",
      "         [1.2170e+03, 7.5302e+02, 1.0000e+00]],\n",
      "\n",
      "        [[9.3007e+02, 3.6638e+02, 1.0000e+00],\n",
      "         [5.7332e+02, 5.6087e+02, 1.0000e+00]],\n",
      "\n",
      "        [[1.6662e+03, 1.1457e+02, 1.0000e+00],\n",
      "         [1.3110e+03, 7.7028e+02, 1.0000e+00]],\n",
      "\n",
      "        [[1.7135e+03, 8.7140e+02, 1.0000e+00],\n",
      "         [1.3557e+03, 1.0420e+03, 1.0000e+00]],\n",
      "\n",
      "        [[1.4528e+03, 2.9639e+02, 1.0000e+00],\n",
      "         [1.1749e+03, 3.9724e+02, 1.0000e+00]],\n",
      "\n",
      "        [[9.8897e+02, 4.3391e+02, 1.0000e+00],\n",
      "         [7.1246e+02, 6.8821e+02, 1.0000e+00]],\n",
      "\n",
      "        [[5.2614e+02, 3.2479e+02, 1.0000e+00],\n",
      "         [9.0555e+01, 8.2652e+02, 1.0000e+00]],\n",
      "\n",
      "        [[1.2969e+03, 2.2898e+02, 1.0000e+00],\n",
      "         [9.4023e+02, 4.2447e+02, 1.0000e+00]],\n",
      "\n",
      "        [[7.4553e+02, 5.5218e+02, 1.0000e+00],\n",
      "         [3.9020e+02, 7.4495e+02, 1.0000e+00]],\n",
      "\n",
      "        [[1.3881e+03, 1.1454e+02, 1.0000e+00],\n",
      "         [1.0360e+03, 7.6435e+02, 1.0000e+00]],\n",
      "\n",
      "        [[4.2559e+02, 1.8315e+02, 1.0000e+00],\n",
      "         [7.3323e+01, 3.7682e+02, 1.0000e+00]],\n",
      "\n",
      "        [[4.2558e+02, 2.7543e+02, 1.0000e+00],\n",
      "         [7.3296e+01, 4.6907e+02, 1.0000e+00]],\n",
      "\n",
      "        [[4.2545e+02, 6.4490e+02, 1.0000e+00],\n",
      "         [7.3173e+01, 8.3801e+02, 1.0000e+00]]], device='cuda:0'), 'keypoints_scores': tensor([[1.4024, 0.9018],\n",
      "        [1.4086, 0.9079],\n",
      "        [1.4062, 0.9036],\n",
      "        [1.4079, 0.9046],\n",
      "        [1.4082, 0.9049],\n",
      "        [1.4047, 0.8990],\n",
      "        [1.4135, 0.9031],\n",
      "        [1.4112, 0.9035],\n",
      "        [1.4149, 0.9057],\n",
      "        [1.4065, 0.9248],\n",
      "        [1.4026, 0.9109],\n",
      "        [1.4266, 0.9081],\n",
      "        [1.4073, 0.9107],\n",
      "        [1.4197, 0.9080],\n",
      "        [1.4088, 0.9051],\n",
      "        [1.4076, 0.9056],\n",
      "        [1.4166, 0.9094],\n",
      "        [1.4192, 0.9097],\n",
      "        [1.4230, 0.9097],\n",
      "        [1.4164, 0.9052],\n",
      "        [1.4119, 0.9252],\n",
      "        [1.4888, 0.9026],\n",
      "        [1.4225, 0.9627],\n",
      "        [1.4116, 0.9137],\n",
      "        [1.4196, 0.9092],\n",
      "        [1.4132, 0.9268],\n",
      "        [1.4152, 0.9117],\n",
      "        [1.4151, 0.9111],\n",
      "        [1.4157, 0.9128],\n",
      "        [1.4124, 0.9133],\n",
      "        [1.4070, 0.9124],\n",
      "        [1.4091, 0.9100],\n",
      "        [1.4280, 0.9122],\n",
      "        [1.4158, 0.9030],\n",
      "        [1.4234, 0.9086],\n",
      "        [1.4126, 0.9133],\n",
      "        [1.4136, 0.9154],\n",
      "        [1.4156, 0.9143],\n",
      "        [1.4023, 0.9507],\n",
      "        [1.4147, 0.9138],\n",
      "        [1.4110, 0.9315],\n",
      "        [1.4100, 0.9192],\n",
      "        [1.4060, 0.9255],\n",
      "        [1.4121, 0.9051],\n",
      "        [1.4188, 0.9321],\n",
      "        [1.4194, 0.9188],\n",
      "        [1.4574, 0.9062],\n",
      "        [1.4197, 0.9171],\n",
      "        [1.4156, 0.9207],\n",
      "        [1.4388, 0.9157],\n",
      "        [1.4761, 0.9047],\n",
      "        [1.4047, 0.9627],\n",
      "        [1.4586, 0.9076],\n",
      "        [1.3968, 0.9527],\n",
      "        [1.4053, 0.9672],\n",
      "        [1.4650, 0.9054],\n",
      "        [1.4215, 0.9247],\n",
      "        [1.4133, 0.9389],\n",
      "        [1.4113, 0.9598],\n",
      "        [1.4818, 0.9095],\n",
      "        [1.4082, 0.9428],\n",
      "        [1.4166, 0.9320],\n",
      "        [1.5204, 0.9135],\n",
      "        [1.4612, 0.9190],\n",
      "        [1.4202, 0.9447],\n",
      "        [1.4805, 0.9112],\n",
      "        [1.3973, 0.9083],\n",
      "        [1.4124, 0.9011],\n",
      "        [1.4128, 0.9136],\n",
      "        [1.4135, 0.9126],\n",
      "        [1.4151, 0.9677],\n",
      "        [1.4057, 0.9516],\n",
      "        [1.4274, 0.9277],\n",
      "        [1.4219, 1.0124],\n",
      "        [1.5564, 0.9066],\n",
      "        [1.5174, 0.9069],\n",
      "        [1.5541, 0.9075],\n",
      "        [1.4198, 0.9597],\n",
      "        [1.4180, 0.9484],\n",
      "        [1.4022, 0.9217],\n",
      "        [1.4095, 0.9220],\n",
      "        [1.4358, 0.9005],\n",
      "        [1.5615, 0.9109],\n",
      "        [1.5294, 0.9006],\n",
      "        [1.4066, 0.9540],\n",
      "        [1.4333, 0.9251],\n",
      "        [1.5161, 0.9074],\n",
      "        [0.7321, 0.5712],\n",
      "        [1.4027, 0.9641],\n",
      "        [1.5135, 0.9101],\n",
      "        [1.4177, 0.9554],\n",
      "        [1.4054, 0.9237],\n",
      "        [1.4037, 0.9381],\n",
      "        [1.4165, 0.9893],\n",
      "        [1.4042, 0.9035],\n",
      "        [1.5871, 0.9129],\n",
      "        [1.5113, 0.9032],\n",
      "        [1.4183, 1.0202],\n",
      "        [1.4183, 1.0202],\n",
      "        [1.4236, 1.0136]], device='cuda:0')}]\n"
     ]
    }
   ],
   "source": [
    "# Get the list of directories in saved_models\n",
    "dirs = os.listdir(\"saved_models\")\n",
    "\n",
    "# Sort the directories by creation time\n",
    "dirs = sorted(dirs, key=lambda x: os.path.getctime(os.path.join(\"saved_models\", x)))\n",
    "\n",
    "# Get the path of the most recent directory\n",
    "latest_dir = os.path.join(\"saved_models\", dirs[-1])\n",
    "\n",
    "# Get the path of the last saved model inside the most recent directory\n",
    "model_path = os.path.join(latest_dir,sorted(os.listdir(latest_dir))[-1])\n",
    "\n",
    "# load model \n",
    "model = torchvision.models.detection.keypointrcnn_resnet50_fpn(pretrained=False,\n",
    "                                                                   pretrained_backbone=True,\n",
    "                                                                   num_keypoints=2,\n",
    "                                                                   num_classes = 2)\n",
    "model.load_state_dict(torch.load(model_path))\n",
    "model.eval().to(device)\n",
    "\n",
    "# load image\n",
    "img_path = 'dataset/test/images/IMG_4913_JPG_jpg.rf.4f67c223e9cbf0ed07236bfe142aaaee.jpg'\n",
    "image = cv2.imread(img_path)\n",
    "\n",
    "# convert to tensor\n",
    "image_tensor: torch.Tensor = K.image_to_tensor(image).to(device)\n",
    "\n",
    "# bgr to rgb\n",
    "image_tensor = K.color.bgr_to_rgb(image_tensor)\n",
    "\n",
    "# normalize\n",
    "image_tensor = K.enhance.normalize(image_tensor, torch.tensor(0.), torch.tensor(255.)).to(device)\n",
    "\n",
    "# add batch dimension\n",
    "image_tensor = image_tensor.unsqueeze(0)\n",
    "\n",
    "# inference\n",
    "\n",
    "with torch.no_grad():\n",
    "    predictions = model(image_tensor)\n",
    "    print(predictions)"
   ]
  },
  {
   "cell_type": "code",
   "execution_count": 73,
   "metadata": {},
   "outputs": [
    {
     "data": {
      "image/png": "[encoded data removed]",
      "text/plain": [
       "<Figure size 640x480 with 1 Axes>"
      ]
     },
     "metadata": {},
     "output_type": "display_data"
    }
   ],
   "source": [
    "output_image = cv2.cvtColor(image, cv2.COLOR_BGR2RGB)\n",
    "\n",
    "keypoints = predictions[0]['keypoints'].detach().cpu().numpy()\n",
    "boxes = predictions[0]['boxes'].detach().cpu().numpy()\n",
    "\n",
    "for i in range(len(predictions[0]['scores'])):\n",
    "    if predictions[0]['scores'][i] > 0.5:\n",
    "        cv2.rectangle(output_image, (int(boxes[i][0]), int(boxes[i][1])), (int(boxes[i][2]), int(boxes[i][3])), (0, 255, 0), 2)\n",
    "        for j in range(len(keypoints[i])):\n",
    "            cv2.circle(output_image, (int(keypoints[i][j][0]), int(keypoints[i][j][1])), 2, (0, 0, 255), 2)\n",
    "# imshow\n",
    "plt.imshow(output_image)\n",
    "plt.show()"
   ]
  },
  {
   "cell_type": "code",
   "execution_count": null,
   "metadata": {},
   "outputs": [],
   "source": []
  }
 ],
 "metadata": {
  "kernelspec": {
   "display_name": "venv",
   "language": "python",
   "name": "python3"
  },
  "language_info": {
   "codemirror_mode": {
    "name": "ipython",
    "version": 3
   },
   "file_extension": ".py",
   "mimetype": "text/x-python",
   "name": "python",
   "nbconvert_exporter": "python",
   "pygments_lexer": "ipython3",
   "version": "3.10.12"
  },
  "orig_nbformat": 4
 },
 "nbformat": 4,
 "nbformat_minor": 2
}
