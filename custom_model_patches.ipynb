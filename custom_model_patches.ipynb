{
 "cells": [
  {
   "cell_type": "markdown",
   "metadata": {},
   "source": [
    "# Training a custom model\n"
   ]
  },
  {
   "cell_type": "code",
   "execution_count": 1,
   "metadata": {},
   "outputs": [
    {
     "name": "stderr",
     "output_type": "stream",
     "text": [
      "/home/sorb/projects/multi_model_keypoint_detection/venv/lib/python3.10/site-packages/tqdm/auto.py:21: TqdmWarning: IProgress not found. Please update jupyter and ipywidgets. See https://ipywidgets.readthedocs.io/en/stable/user_install.html\n",
      "  from .autonotebook import tqdm as notebook_tqdm\n"
     ]
    }
   ],
   "source": [
    "import torch\n",
    "import torch.nn as nn\n",
    "import timm\n",
    "import json\n",
    "import os\n",
    "import cv2\n",
    "import numpy as np\n",
    "import torch\n",
    "from torch.utils.data import Dataset, DataLoader\n",
    "import matplotlib.pyplot as plt\n",
    "from tqdm import tqdm\n",
    "from tqdm import tqdm\n",
    "import datetime\n",
    "import os\n",
    "import os\n",
    "import json\n",
    "import torch\n",
    "from torch.utils.data import Dataset\n",
    "import torchvision.transforms as T\n",
    "import kornia as K\n",
    "from kornia import augmentation as A\n",
    "from kornia.augmentation import AugmentationSequential\n",
    "from kornia.contrib import ExtractTensorPatches, CombineTensorPatches"
   ]
  },
  {
   "cell_type": "code",
   "execution_count": 2,
   "metadata": {},
   "outputs": [
    {
     "name": "stdout",
     "output_type": "stream",
     "text": [
      "torch.Size([2, 10, 64, 64])\n"
     ]
    }
   ],
   "source": [
    "class KeypointDetector(nn.Module):\n",
    "    def __init__(self, num_keypoints):\n",
    "        super(KeypointDetector, self).__init__()\n",
    "\n",
    "        # Using timm's resnet50 as the backbone\n",
    "        self.backbone = timm.create_model('resnet50', pretrained=True, num_classes=0, global_pool='')\n",
    "\n",
    "        # Decoder: Simple example with transposed convolutions\n",
    "        # Adjust the number of layers or channels based on your needs\n",
    "        self.decoder = nn.Sequential(\n",
    "            nn.ConvTranspose2d(2048, 1024, kernel_size=4, stride=2, padding=1),\n",
    "            nn.ReLU(),\n",
    "            nn.ConvTranspose2d(1024, 512, kernel_size=4, stride=2, padding=1),\n",
    "            nn.ReLU(),\n",
    "            nn.ConvTranspose2d(512, 256, kernel_size=4, stride=2, padding=1),\n",
    "            nn.ReLU(),\n",
    "            nn.ConvTranspose2d(256, 128, kernel_size=4, stride=2, padding=1),\n",
    "            nn.ReLU(),\n",
    "            nn.ConvTranspose2d(128, num_keypoints, kernel_size=4, stride=2, padding=1),\n",
    "            nn.Sigmoid()\n",
    "        )\n",
    "\n",
    "    def forward(self, x):\n",
    "        x = self.backbone(x)\n",
    "        x = self.decoder(x)\n",
    "        return x\n",
    "\n",
    "# Example usage\n",
    "model = KeypointDetector(num_keypoints=10)  # Assuming you have 10 keypoints\n",
    "input_tensor = torch.randn(2, 3, 64, 64)\n",
    "output = model(input_tensor)\n",
    "print(output.shape)  # Should be [2, 10, 224, 224] as each keypoint will have its own mask\n"
   ]
  },
  {
   "cell_type": "code",
   "execution_count": 3,
   "metadata": {},
   "outputs": [
    {
     "name": "stdout",
     "output_type": "stream",
     "text": [
      "cuda\n",
      "torch.Size([4, 3, 64, 64])\n",
      "torch.Size([4, 2, 64, 64])\n"
     ]
    },
    {
     "name": "stderr",
     "output_type": "stream",
     "text": [
      "/tmp/ipykernel_2333635/3041210227.py:30: UserWarning: Creating a tensor from a list of numpy.ndarrays is extremely slow. Please consider converting the list to a single numpy.ndarray with numpy.array() before converting to a tensor. (Triggered internally at ../torch/csrc/utils/tensor_new.cpp:245.)\n",
      "  mask =  (torch.tensor(mask) / 255).float()\n"
     ]
    }
   ],
   "source": [
    "class KeypointDataset(Dataset):\n",
    "    def __init__(self, root_dir, transform=None):\n",
    "        self.root_dir = root_dir\n",
    "        self.transform = transform\n",
    "        self.image_list = os.listdir(os.path.join(root_dir, \"images\"))\n",
    "        self.transform = T.Normalize(mean=(0.485, 0.456, 0.406), std=(0.229, 0.224, 0.225))\n",
    "        \n",
    "    def __len__(self):\n",
    "        return len(self.image_list)\n",
    "    \n",
    "    def __getitem__(self, idx):\n",
    "        # Loading the image using OpenCV\n",
    "        img_name = self.image_list[idx]\n",
    "        img_path = os.path.join(self.root_dir, \"images\", img_name)\n",
    "        image = cv2.imread(img_path)\n",
    "        image = cv2.cvtColor(image, cv2.COLOR_BGR2RGB)\n",
    "        \n",
    "        # Loading the annotation (keypoints)\n",
    "        ann_path = os.path.join(self.root_dir, \"annotations\", os.path.splitext(img_name)[0] + \".json\")\n",
    "        with open(ann_path, 'r') as f:\n",
    "            annotation = json.load(f)\n",
    "        \n",
    "        keypoints = annotation['keypoints']\n",
    "        mask = self.keypoints_to_mask(image.shape, (480, 288), keypoints)\n",
    "        \n",
    "        # Resizing the image using OpenCV\n",
    "        image = cv2.resize(image, (480, 288))\n",
    "\n",
    "        image = (torch.tensor(image.transpose(2,0,1)) / 255).float()\n",
    "        mask =  (torch.tensor(mask) / 255).float()\n",
    "\n",
    "        if self.transform:\n",
    "            # Depending on the transform library, you may need to change this\n",
    "            image = self.transform(image)\n",
    "        \n",
    "        # # obtenemos el tamaño\n",
    "        # self.w = image.shape[2]\n",
    "        # self.h = image.shape[1]\n",
    "\n",
    "        # # calculamos el tamaño multiple necesario en base a la entrada del modelo\n",
    "        # self.r_w = (self.w // self.input_unet) * self.input_unet\n",
    "        # self.r_h = (self.h // self.input_unet) * self.input_unet\n",
    "\n",
    "        # # hacemos un reescalado para evitar tener bordes negros\n",
    "        # image = K.geometry.transform.resize(image, [self.r_h, self.r_w])\n",
    "        # mask = K.geometry.transform.resize(mask, [self.r_h, self.r_w])\n",
    "        \n",
    "        # extraemos los patches\n",
    "        tiler = ExtractTensorPatches(window_size=64, stride=64)\n",
    "        image_tiles = tiler(image.unsqueeze(0))\n",
    "        mask_tiles = tiler(mask.unsqueeze(0))\n",
    "        \n",
    "        # creamos una lista de patches\n",
    "        image_patches = []\n",
    "        mask_patches = []\n",
    "\n",
    "        self.get_only_annotated_patches = True\n",
    "\n",
    "        # recorremos todos los patches\n",
    "        for i in range(image_tiles.squeeze(0).shape[0]):\n",
    "\n",
    "            # si el usuario pido obtener solo los patches con mascara añadimos los que contienen mascara sino añadimos todos\n",
    "            if not self.get_only_annotated_patches or mask_tiles.squeeze(0)[i].max() != torch.tensor(0):\n",
    "                image_patches.append(image_tiles.squeeze(0)[i].unsqueeze(0))\n",
    "                mask_patches.append(mask_tiles.squeeze(0)[i].unsqueeze(0))\n",
    "\n",
    "        # concatenamos todos los resultados\n",
    "        image_patches = torch.cat(image_patches)\n",
    "        mask_patches = torch.cat(mask_patches)\n",
    "\n",
    "        return image_patches, mask_patches\n",
    "    \n",
    "    def keypoints_to_mask(self, image_shape, img_size, keypoints):\n",
    "        \n",
    "        # create two masks for the two keypoints (head and tail)\n",
    "        masks = [np.zeros(image_shape[:2]), np.zeros(image_shape[:2])]\n",
    "        for k in keypoints:\n",
    "            cv2.circle(masks[0], (int(k[0][0]), int(k[0][1])), 15, 255, -1)\n",
    "            cv2.circle(masks[1], (int(k[1][0]), int(k[1][1])), 15, 255, -1)\n",
    "\n",
    "        for i in range(len(masks)):\n",
    "            # resize\n",
    "            masks[i]  = cv2.resize(masks[i], img_size)\n",
    "    \n",
    "        return masks\n",
    "\n",
    "def collate_fn(batch):\n",
    "    \"\"\"\n",
    "    Collate function to format the batch in the desired manner.\n",
    "    \n",
    "    Parameters:\n",
    "    - batch (list): List of tuples where each tuple contains an image tensor and its associated target.\n",
    "    \n",
    "    Returns:\n",
    "    - tuple: Tuple containing a tensor of images and a list of targets.\n",
    "    \"\"\"\n",
    "    # Separate images and targets in the batch\n",
    "    images, targets = zip(*batch)\n",
    "    \n",
    "    # Stack images\n",
    "    images = torch.stack(images)\n",
    "    targets = torch.stack(targets)\n",
    "\n",
    "    return images.squeeze(0), targets.squeeze(0)\n",
    "\n",
    "# if cuda is avaliable, use it\n",
    "device = 'cuda' if torch.cuda.is_available() else 'cpu'\n",
    "print(device)\n",
    "\n",
    "train_path = 'dataset/train'\n",
    "test_path = 'dataset/test'\n",
    "\n",
    "\n",
    "train_dataset = KeypointDataset(train_path)\n",
    "test_dataset = KeypointDataset(test_path)\n",
    "\n",
    "train_dataloader = DataLoader(train_dataset, batch_size = 1, shuffle=True, collate_fn=collate_fn)\n",
    "test_dataloader = DataLoader(test_dataset, batch_size = 1, shuffle=False, collate_fn=collate_fn)\n",
    "\n",
    "# Get a batch of images and annotations from the train dataloader\n",
    "images, targets = next(iter(train_dataloader))\n",
    "\n",
    "print(images.shape)  # Should be [3, 288, 480]\n",
    "print(targets.shape)  # Should be [2, 288, 480]"
   ]
  },
  {
   "cell_type": "code",
   "execution_count": 4,
   "metadata": {},
   "outputs": [
    {
     "name": "stderr",
     "output_type": "stream",
     "text": [
      "Clipping input data to the valid range for imshow with RGB data ([0..1] for floats or [0..255] for integers).\n"
     ]
    },
    {
     "data": {
      "image/png": "[encoded data removed]",
      "text/plain": [
       "<Figure size 1500x500 with 3 Axes>"
      ]
     },
     "metadata": {},
     "output_type": "display_data"
    }
   ],
   "source": [
    "def visualize_image_and_masks(image, masks):\n",
    "    \"\"\"\n",
    "    Visualize the input image and its corresponding keypoint masks side-by-side.\n",
    "\n",
    "    Parameters:\n",
    "    - image (torch.Tensor): Tensor representing the image. Shape: [3, height, width]\n",
    "    - masks (torch.Tensor): Tensor representing the keypoint masks. Shape: [num_keypoints, height, width]\n",
    "    \"\"\"\n",
    "    \n",
    "    # Convert the image tensor to numpy array in the format [height, width, channels]\n",
    "    img_np = image.permute(1, 2, 0).numpy()\n",
    "\n",
    "    # Number of subplots (1 for original image + number of keypoints)\n",
    "    num_keypoints = masks.shape[0]\n",
    "    \n",
    "    # Create a figure with subplots\n",
    "    plt.figure(figsize=(15, 5))\n",
    "\n",
    "    # Display the original image\n",
    "    plt.subplot(1, num_keypoints + 1, 1)\n",
    "    plt.imshow(img_np)\n",
    "    plt.axis('off')\n",
    "    plt.title('Original Image')\n",
    "\n",
    "    # Display each keypoint mask\n",
    "    for i in range(num_keypoints):\n",
    "\n",
    "        plt.subplot(1, num_keypoints + 1, i + 2)\n",
    "        plt.imshow(masks[i].numpy(), cmap='gray')  # Using gray colormap for masks\n",
    "        plt.axis('off')\n",
    "        plt.title(f'Keypoint {i+1}')\n",
    "\n",
    "    plt.tight_layout()\n",
    "    plt.show()\n",
    "\n",
    "# Example Usage:\n",
    "idx = 0  # Index of the image in the batch to visualize. Change as needed.\n",
    "visualize_image_and_masks(images[idx], targets[idx])\n"
   ]
  },
  {
   "cell_type": "code",
   "execution_count": 5,
   "metadata": {},
   "outputs": [],
   "source": [
    "class DiceLoss(nn.Module):\n",
    "    def __init__(self, weight=None, size_average=True):\n",
    "        super(DiceLoss, self).__init__()\n",
    "\n",
    "    def forward(self, inputs, targets, smooth=1):\n",
    "\n",
    "        # inputs = F.sigmoid(inputs)\n",
    "\n",
    "        inputs = inputs.view(-1)\n",
    "        targets = targets.view(-1)\n",
    "\n",
    "        intersection = (inputs * targets).sum()\n",
    "        dice = (2.*intersection + smooth)/(inputs.sum() + targets.sum() + smooth)\n",
    "\n",
    "        return 1 - dice"
   ]
  },
  {
   "cell_type": "code",
   "execution_count": 6,
   "metadata": {},
   "outputs": [],
   "source": [
    "class CombinedLoss(nn.Module):\n",
    "    def __init__(self, alpha=1.0, beta=1.0):\n",
    "        super(CombinedLoss, self).__init__()\n",
    "        self.alpha = alpha\n",
    "        self.beta = beta\n",
    "        self.bce = nn.BCEWithLogitsLoss()\n",
    "    \n",
    "    def forward(self, inputs, targets, smooth=1e-6):\n",
    "        \n",
    "        # First compute the BCE\n",
    "        bce = self.bce(inputs, targets)\n",
    "        \n",
    "        # Now compute the Dice Loss\n",
    "        inputs = torch.sigmoid(inputs)\n",
    "        \n",
    "        intersection = (inputs * targets).sum()\n",
    "        dice_loss = 1 - (2. * intersection + smooth) / (inputs.sum() + targets.sum() + smooth)\n",
    "        \n",
    "        return self.alpha * bce + self.beta * dice_loss\n"
   ]
  },
  {
   "cell_type": "code",
   "execution_count": 7,
   "metadata": {},
   "outputs": [
    {
     "name": "stderr",
     "output_type": "stream",
     "text": [
      "Training Epoch 1/10: 100%|██████████| 111/111 [00:14<00:00,  7.67it/s]\n",
      "Validation Epoch 1/10: 100%|██████████| 23/23 [00:02<00:00, 10.93it/s]\n"
     ]
    },
    {
     "name": "stdout",
     "output_type": "stream",
     "text": [
      "Epoch 1/10 => Training Loss: 0.1823, Validation Loss: 0.0422\n"
     ]
    },
    {
     "name": "stderr",
     "output_type": "stream",
     "text": [
      "Training Epoch 2/10: 100%|██████████| 111/111 [00:13<00:00,  8.40it/s]\n",
      "Validation Epoch 2/10: 100%|██████████| 23/23 [00:02<00:00, 10.51it/s]\n"
     ]
    },
    {
     "name": "stdout",
     "output_type": "stream",
     "text": [
      "Epoch 2/10 => Training Loss: 0.0330, Validation Loss: 0.0444\n"
     ]
    },
    {
     "name": "stderr",
     "output_type": "stream",
     "text": [
      "Training Epoch 3/10: 100%|██████████| 111/111 [00:13<00:00,  8.24it/s]\n",
      "Validation Epoch 3/10: 100%|██████████| 23/23 [00:02<00:00, 10.16it/s]\n"
     ]
    },
    {
     "name": "stdout",
     "output_type": "stream",
     "text": [
      "Epoch 3/10 => Training Loss: 0.0251, Validation Loss: 0.0381\n"
     ]
    },
    {
     "name": "stderr",
     "output_type": "stream",
     "text": [
      "Training Epoch 4/10: 100%|██████████| 111/111 [00:13<00:00,  8.12it/s]\n",
      "Validation Epoch 4/10: 100%|██████████| 23/23 [00:02<00:00, 10.16it/s]\n"
     ]
    },
    {
     "name": "stdout",
     "output_type": "stream",
     "text": [
      "Epoch 4/10 => Training Loss: 0.0197, Validation Loss: 0.0381\n"
     ]
    },
    {
     "name": "stderr",
     "output_type": "stream",
     "text": [
      "Training Epoch 5/10: 100%|██████████| 111/111 [00:14<00:00,  7.91it/s]\n",
      "Validation Epoch 5/10: 100%|██████████| 23/23 [00:02<00:00,  9.53it/s]\n"
     ]
    },
    {
     "name": "stdout",
     "output_type": "stream",
     "text": [
      "Epoch 5/10 => Training Loss: 0.0168, Validation Loss: 0.0325\n"
     ]
    },
    {
     "name": "stderr",
     "output_type": "stream",
     "text": [
      "Training Epoch 6/10: 100%|██████████| 111/111 [00:14<00:00,  7.86it/s]\n",
      "Validation Epoch 6/10: 100%|██████████| 23/23 [00:02<00:00, 10.18it/s]\n"
     ]
    },
    {
     "name": "stdout",
     "output_type": "stream",
     "text": [
      "Epoch 6/10 => Training Loss: 0.0140, Validation Loss: 0.0372\n"
     ]
    },
    {
     "name": "stderr",
     "output_type": "stream",
     "text": [
      "Training Epoch 7/10: 100%|██████████| 111/111 [00:13<00:00,  8.11it/s]\n",
      "Validation Epoch 7/10: 100%|██████████| 23/23 [00:02<00:00, 10.45it/s]\n"
     ]
    },
    {
     "name": "stdout",
     "output_type": "stream",
     "text": [
      "Epoch 7/10 => Training Loss: 0.0129, Validation Loss: 0.0573\n"
     ]
    },
    {
     "name": "stderr",
     "output_type": "stream",
     "text": [
      "Training Epoch 8/10: 100%|██████████| 111/111 [00:13<00:00,  8.05it/s]\n",
      "Validation Epoch 8/10: 100%|██████████| 23/23 [00:02<00:00, 10.03it/s]\n"
     ]
    },
    {
     "name": "stdout",
     "output_type": "stream",
     "text": [
      "Epoch 8/10 => Training Loss: 0.0126, Validation Loss: 0.0368\n"
     ]
    },
    {
     "name": "stderr",
     "output_type": "stream",
     "text": [
      "Training Epoch 9/10: 100%|██████████| 111/111 [00:13<00:00,  8.06it/s]\n",
      "Validation Epoch 9/10: 100%|██████████| 23/23 [00:02<00:00, 10.14it/s]\n"
     ]
    },
    {
     "name": "stdout",
     "output_type": "stream",
     "text": [
      "Epoch 9/10 => Training Loss: 0.0116, Validation Loss: 0.0432\n"
     ]
    },
    {
     "name": "stderr",
     "output_type": "stream",
     "text": [
      "Training Epoch 10/10: 100%|██████████| 111/111 [00:14<00:00,  7.86it/s]\n",
      "Validation Epoch 10/10: 100%|██████████| 23/23 [00:02<00:00, 10.02it/s]\n"
     ]
    },
    {
     "name": "stdout",
     "output_type": "stream",
     "text": [
      "Epoch 10/10 => Training Loss: 0.0108, Validation Loss: 0.0485\n"
     ]
    }
   ],
   "source": [
    "# Setup\n",
    "num_epochs = 10\n",
    "learning_rate = 5e-4\n",
    "weight_decay = 5e-6\n",
    "\n",
    "# Create a directory with the current timestamp\n",
    "now = datetime.datetime.now()\n",
    "timestamp = now.strftime('%Y-%m-%d_%H-%M-%S')\n",
    "save_dir = os.path.join(\"saved_models\", timestamp)\n",
    "os.makedirs(save_dir, exist_ok=True)\n",
    "\n",
    "model = KeypointDetector(num_keypoints=2)  # As we are dealing with 2 keypoints: head and tail.\n",
    "model = model.to(device)\n",
    "\n",
    "criterion = nn.BCELoss()  # Using binary cross-entropy as we're predicting masks (sigmoid output)\n",
    "# criterion = DiceLoss()  # Using binary cross-entropy as we're predicting masks (sigmoid output)\n",
    "# criterion = CombinedLoss(alpha=0.5, beta=0.5)\n",
    "optimizer = torch.optim.Adam(model.parameters(), lr=learning_rate, weight_decay=weight_decay)\n",
    "\n",
    "# Training & Validation Loop\n",
    "for epoch in range(num_epochs):\n",
    "    # Training\n",
    "    model.train()\n",
    "    train_loss = 0.0\n",
    "    for images, targets in tqdm(train_dataloader, desc=f\"Training Epoch {epoch + 1}/{num_epochs}\"):\n",
    "        images, targets = images.to(device), targets.to(device)\n",
    "        \n",
    "        optimizer.zero_grad()\n",
    "        \n",
    "        outputs = model(images)\n",
    "\n",
    "        loss = criterion(outputs, targets)\n",
    "        \n",
    "        loss.backward()\n",
    "        optimizer.step()\n",
    "        \n",
    "        train_loss += loss.item()\n",
    "    \n",
    "    avg_train_loss = train_loss / len(train_dataloader)\n",
    "    \n",
    "    # Validation\n",
    "    model.eval()\n",
    "    valid_loss = 0.0\n",
    "    with torch.no_grad():\n",
    "        for images, targets in tqdm(test_dataloader, desc=f\"Validation Epoch {epoch + 1}/{num_epochs}\"):\n",
    "            images, targets = images.to(device), targets.to(device)\n",
    "            \n",
    "            outputs = model(images)\n",
    "            loss = criterion(outputs, targets)\n",
    "            \n",
    "            valid_loss += loss.item()\n",
    "    \n",
    "    avg_valid_loss = valid_loss / len(test_dataloader)\n",
    "    \n",
    "    # Logging\n",
    "    print(f\"Epoch {epoch + 1}/{num_epochs} => \"\n",
    "          f\"Training Loss: {avg_train_loss:.4f}, Validation Loss: {avg_valid_loss:.4f}\")\n",
    "    \n",
    "    # Checkpointing (save model every epoch as an example)\n",
    "    checkpoint_path = os.path.join(save_dir, f\"epoch_{epoch + 1}.pth\")\n",
    "\n",
    "    # save model\n",
    "    torch.save(model.state_dict(), checkpoint_path)\n"
   ]
  },
  {
   "cell_type": "code",
   "execution_count": 11,
   "metadata": {},
   "outputs": [
    {
     "data": {
      "image/png": "[encoded data removed]",
      "text/plain": [
       "<Figure size 1500x500 with 3 Axes>"
      ]
     },
     "metadata": {},
     "output_type": "display_data"
    },
    {
     "data": {
      "image/png": "[encoded data removed]",
      "text/plain": [
       "<Figure size 1500x500 with 3 Axes>"
      ]
     },
     "metadata": {},
     "output_type": "display_data"
    }
   ],
   "source": [
    "# Get the list of directories in saved_models\n",
    "dirs = os.listdir(\"saved_models\")\n",
    "\n",
    "# Sort the directories by creation time\n",
    "dirs = sorted(dirs, key=lambda x: os.path.getctime(os.path.join(\"saved_models\", x)))\n",
    "\n",
    "# Get the path of the most recent directory\n",
    "latest_dir = os.path.join(\"saved_models\", dirs[-1])\n",
    "\n",
    "# Get the path of the last saved model inside the most recent directory\n",
    "model_path = os.path.join(latest_dir,sorted(os.listdir(latest_dir))[-1])\n",
    "\n",
    "# Load the last saved checkpoint\n",
    "model = KeypointDetector(num_keypoints=2).to(device)\n",
    "model.load_state_dict(torch.load(model_path))\n",
    "model.eval().to(device)\n",
    "\n",
    "# %%\n",
    "# Get an image from the test dataset\n",
    "image, target = test_dataset[2]  # Change index as needed\n",
    "image = image[0]\n",
    "target = target[0]\n",
    "\n",
    "image = image.unsqueeze(0).to(device)  # Add batch dimension and move to device\n",
    "\n",
    "# invert std and mean\n",
    "image[0][0] = image[0][0] * 0.229 + 0.485\n",
    "image[0][1] = image[0][1] * 0.224 + 0.456\n",
    "image[0][2] = image[0][2] * 0.225 + 0.406\n",
    "\n",
    "\n",
    "# Predict the mask using the loaded model\n",
    "with torch.no_grad():\n",
    "    predicted_mask = model(image)\n",
    "\n",
    "    # Binarizar la salida usando un umbral de 0.5\n",
    "    threshold = 0.5\n",
    "    predicted_mask[predicted_mask >= threshold] = 255\n",
    "    predicted_mask[predicted_mask < threshold] = 0\n",
    "\n",
    "    # convert to int\n",
    "    predicted_mask = predicted_mask.type(torch.uint8)\n",
    "\n",
    "# Visualize the mask and the image\n",
    "visualize_image_and_masks(image.cpu().squeeze(0),target.cpu().squeeze(0))\n",
    "visualize_image_and_masks(image.cpu().squeeze(0),predicted_mask.cpu().squeeze(0))\n"
   ]
  },
  {
   "cell_type": "code",
   "execution_count": null,
   "metadata": {},
   "outputs": [],
   "source": []
  }
 ],
 "metadata": {
  "kernelspec": {
   "display_name": "venv",
   "language": "python",
   "name": "python3"
  },
  "language_info": {
   "codemirror_mode": {
    "name": "ipython",
    "version": 3
   },
   "file_extension": ".py",
   "mimetype": "text/x-python",
   "name": "python",
   "nbconvert_exporter": "python",
   "pygments_lexer": "ipython3",
   "version": "3.10.12"
  },
  "orig_nbformat": 4
 },
 "nbformat": 4,
 "nbformat_minor": 2
}
